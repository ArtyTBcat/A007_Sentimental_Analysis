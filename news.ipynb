{
 "cells": [
  {
   "cell_type": "code",
   "execution_count": 1,
   "metadata": {
    "collapsed": true,
    "ExecuteTime": {
     "end_time": "2024-05-01T05:13:40.383241Z",
     "start_time": "2024-05-01T05:13:39.273685Z"
    }
   },
   "outputs": [],
   "source": [
    "import torch\n",
    "import transformers"
   ]
  },
  {
   "cell_type": "code",
   "execution_count": 2,
   "outputs": [],
   "source": [
    "from gpt4all import GPT4All\n",
    "model = GPT4All(\"orca-mini-3b-gguf2-q4_0.gguf\")"
   ],
   "metadata": {
    "collapsed": false,
    "ExecuteTime": {
     "end_time": "2024-05-01T05:13:45.802571Z",
     "start_time": "2024-05-01T05:13:40.369521Z"
    }
   }
  },
  {
   "cell_type": "code",
   "execution_count": 3,
   "outputs": [
    {
     "name": "stdout",
     "output_type": "stream",
     "text": [
      " The current pullback could be an opportunity for investors to add some exposure to the market at lower prices, according to analysts.\n"
     ]
    }
   ],
   "source": [
    "def stop_on_token_callback(token_id, token_string):\n",
    "    if '.' in token_string: return False\n",
    "    else: return True\n",
    "response = model.generate(\"Summarize this news, BlackRock’s spot bitcoin exchange-traded fund (ETF), which trades under the ticker IBIT on Nasdaq, fell out of favor on Wednesday, preliminary data published by Farside Investors showed. For the first time since going live on January 11, the fund did not draw any investor money, snapping a 71-day inflows streak. Seven out of the other ten funds followed IBIT’s lead. Fidelity’s FBTC and the ARK 21Shares Bitcoin ETF (ARKB) registered inflows of $5.6 million and $4,2 million, respectively, while Grayscale’s GBTC bled $130.4 million, leading to a new cumulative outflow of $120.6 million, the highest since April 17. Spot ETFs debuted in the U.S. on January 11 with much fanfare, promising to pull billions of dollars in institutional money. To date, BlackRock’s IBIT has alone amassed more than $15 billion, while the 11 funds taken together have registered a net inflow of over $12 billion. However, most inflows happened in the first quarter, and the uptake has slowed this month, taking the wind out of the bitcoin bull run.Bitcoin (BTC), the leading cryptocurrency by market value, has traded primarily between $60,000 and $70,000 this month, CoinDesk data show, marking a weak follow-through to the first quarter’s near 70% rally to record highs above $73,500.\", temp= 0, callback=stop_on_token_callback)\n",
    "print(response)"
   ],
   "metadata": {
    "collapsed": false,
    "ExecuteTime": {
     "end_time": "2024-05-01T05:13:51.370704Z",
     "start_time": "2024-05-01T05:13:45.805203Z"
    }
   }
  },
  {
   "cell_type": "code",
   "execution_count": 45,
   "outputs": [],
   "source": [
    "new_api = \"6064ea25c53d48a3abd8159d80cc92c6\"\n",
    "newsapi_url = \"https://newsapi.org/v2/everything?q=cryptocurrency&apiKey=6064ea25c53d48a3abd8159d80cc92c6\"\n"
   ],
   "metadata": {
    "collapsed": false,
    "ExecuteTime": {
     "end_time": "2024-05-01T11:06:23.745319Z",
     "start_time": "2024-05-01T11:06:23.742709Z"
    }
   }
  },
  {
   "cell_type": "code",
   "execution_count": 59,
   "outputs": [
    {
     "name": "stdout",
     "output_type": "stream",
     "text": [
      "Status ok\n"
     ]
    }
   ],
   "source": [
    "import requests\n",
    "response = requests.get(newsapi_url)\n",
    "\n",
    "if response.status_code == 200:\n",
    "    print(\"Status ok\")\n",
    "else:\n",
    "    print(\"Error:\", response.status_code)"
   ],
   "metadata": {
    "collapsed": false,
    "ExecuteTime": {
     "end_time": "2024-05-01T11:34:04.491824Z",
     "start_time": "2024-05-01T11:34:02.130370Z"
    }
   }
  },
  {
   "cell_type": "code",
   "execution_count": 100,
   "outputs": [
    {
     "data": {
      "text/plain": "dict_keys(['status', 'totalResults', 'articles'])"
     },
     "execution_count": 100,
     "metadata": {},
     "output_type": "execute_result"
    }
   ],
   "source": [
    "json_data = response.json()\n",
    "json_data.keys()"
   ],
   "metadata": {
    "collapsed": false,
    "ExecuteTime": {
     "end_time": "2024-05-01T12:05:24.940180Z",
     "start_time": "2024-05-01T12:05:24.936105Z"
    }
   }
  },
  {
   "cell_type": "code",
   "execution_count": 96,
   "outputs": [
    {
     "data": {
      "text/plain": "dict_keys(['source', 'author', 'title', 'description', 'url', 'urlToImage', 'publishedAt', 'content'])"
     },
     "execution_count": 96,
     "metadata": {},
     "output_type": "execute_result"
    }
   ],
   "source": [
    "json_data[\"articles\"][1].keys()"
   ],
   "metadata": {
    "collapsed": false,
    "ExecuteTime": {
     "end_time": "2024-05-01T12:03:39.177176Z",
     "start_time": "2024-05-01T12:03:39.170577Z"
    }
   }
  },
  {
   "cell_type": "code",
   "execution_count": 88,
   "outputs": [],
   "source": [
    "import json\n",
    "from bs4 import BeautifulSoup\n",
    "import numpy as np\n",
    "from datetime import datetime\n",
    "import datefinder\n",
    "\n",
    "\n",
    "from transformers import pipeline\n",
    "pipe = pipeline(\"text-classification\", model=\"mrm8488/distilroberta-finetuned-financial-news-sentiment-analysis\")\n",
    "def analyize_sentimental_text(text):\n",
    "    return pipe(text)\n",
    "\n",
    "def split_text(text, max_length=514):\n",
    "    sentences = []\n",
    "    current_sentence = \"\"\n",
    "    for word in text.split():\n",
    "        if len(current_sentence) + len(word) < max_length:\n",
    "            current_sentence += \" \" + word if current_sentence else word\n",
    "        else:\n",
    "            if not current_sentence.endswith(\".\"):\n",
    "                current_sentence += \".\"\n",
    "            sentences.append(current_sentence)\n",
    "            current_sentence = word\n",
    "    if current_sentence:\n",
    "        if not current_sentence.endswith(\".\") & len(current_sentence) < max_length:\n",
    "            current_sentence += \".\"\n",
    "        sentences.append(current_sentence)\n",
    "    return sentences\n",
    "\n",
    "def append_json_data(path, new_data):\n",
    "    # update json file\n",
    "    with open(path, 'r') as extracted_text_data:\n",
    "        original_data = json.load(extracted_text_data)\n",
    "    original_data.append(new_data)\n",
    "    with open(path, 'w') as extracted_text_data:\n",
    "        json.dump(original_data, extracted_text_data, indent=4)"
   ],
   "metadata": {
    "collapsed": false,
    "ExecuteTime": {
     "end_time": "2024-05-01T11:56:59.762848Z",
     "start_time": "2024-05-01T11:56:58.262108Z"
    }
   }
  },
  {
   "cell_type": "code",
   "execution_count": 89,
   "outputs": [],
   "source": [
    "def avg_score_finder(sentimental_scores):\n",
    "    labels = {'neutral' : 0, 'negative': -1, 'positive': 1}\n",
    "    scores: list = [labels[sentimental_score[0][\"label\"]] for sentimental_score in sentimental_scores]\n",
    "    return np.average(scores)"
   ],
   "metadata": {
    "collapsed": false,
    "ExecuteTime": {
     "end_time": "2024-05-01T11:56:59.765889Z",
     "start_time": "2024-05-01T11:56:59.763936Z"
    }
   }
  },
  {
   "cell_type": "markdown",
   "source": [
    "This following code is to extract the most common Currency that is mentioned in the text"
   ],
   "metadata": {
    "collapsed": false
   }
  },
  {
   "cell_type": "code",
   "execution_count": 90,
   "outputs": [],
   "source": [
    "import tensorflow as tf\n",
    "import yfinance as yf\n",
    "import pandas as pd\n",
    "from collections import Counter"
   ],
   "metadata": {
    "collapsed": false,
    "ExecuteTime": {
     "end_time": "2024-05-01T11:56:59.768057Z",
     "start_time": "2024-05-01T11:56:59.766604Z"
    }
   }
  },
  {
   "cell_type": "code",
   "execution_count": 91,
   "outputs": [
    {
     "data": {
      "text/plain": "          Symbol              Name Price (Intraday)     Change % Change  \\\n0        BTC-USD       Bitcoin USD        51,013.81   1,741.86   0.0374   \n1        ETH-USD      Ethereum USD         4,310.12     123.49   0.0295   \n2        BNB-USD   BinanceCoin USD           579.82      10.85   0.0191   \n3       USDT-USD        Tether USD         0.999563  -0.000893   -0.09%   \n4       SOL1-USD        Solana USD           194.93       5.62   0.0297   \n..           ...               ...              ...        ...      ...   \n390      GRN-USD    GreenPower USD         0.012171  -0.001566  -11.40%   \n391      KNC-USD  KyberNetwork USD           1.5066      0.152   0.1122   \n392  BONFIRE-USD       Bonfire USD       0.00000002          0   0.1971   \n393      BST-USD    BlockStamp USD         0.066326   0.002342   0.0366   \n394      VBK-USD     VeriBlock USD          0.00408  -0.001334  -24.64%   \n\n    Market Cap Volume in Currency (Since 0:00 UTC) Volume in Currency (24Hr)  \\\n0     963.866B                             34.642B                   34.642B   \n1     511.373B                             23.695B                   23.695B   \n2      96.714B                              2.376B                    2.376B   \n3      75.981B                             79.634B                   79.634B   \n4      59.631B                              2.804B                    2.804B   \n..         ...                                 ...                       ...   \n390          0                                  50                        50   \n391          0                             128,861                   128,861   \n392          0                             124,365                   124,365   \n393          0                                   0                         0   \n394          0                              16,154                    16,154   \n\n    Total Volume All Currencies (24Hr) Circulating Supply  \n0                              34.642B            18.894M  \n1                              23.695B           118.645M  \n2                               2.376B           166.801M  \n3                              79.634B            76.014B  \n4                               2.804B           305.911M  \n..                                 ...                ...  \n390                                 50                  0  \n391                            128,861                  0  \n392                            124,365                  0  \n393                                  0                  0  \n394                             16,154                  0  \n\n[395 rows x 10 columns]",
      "text/html": "<div>\n<style scoped>\n    .dataframe tbody tr th:only-of-type {\n        vertical-align: middle;\n    }\n\n    .dataframe tbody tr th {\n        vertical-align: top;\n    }\n\n    .dataframe thead th {\n        text-align: right;\n    }\n</style>\n<table border=\"1\" class=\"dataframe\">\n  <thead>\n    <tr style=\"text-align: right;\">\n      <th></th>\n      <th>Symbol</th>\n      <th>Name</th>\n      <th>Price (Intraday)</th>\n      <th>Change</th>\n      <th>% Change</th>\n      <th>Market Cap</th>\n      <th>Volume in Currency (Since 0:00 UTC)</th>\n      <th>Volume in Currency (24Hr)</th>\n      <th>Total Volume All Currencies (24Hr)</th>\n      <th>Circulating Supply</th>\n    </tr>\n  </thead>\n  <tbody>\n    <tr>\n      <th>0</th>\n      <td>BTC-USD</td>\n      <td>Bitcoin USD</td>\n      <td>51,013.81</td>\n      <td>1,741.86</td>\n      <td>0.0374</td>\n      <td>963.866B</td>\n      <td>34.642B</td>\n      <td>34.642B</td>\n      <td>34.642B</td>\n      <td>18.894M</td>\n    </tr>\n    <tr>\n      <th>1</th>\n      <td>ETH-USD</td>\n      <td>Ethereum USD</td>\n      <td>4,310.12</td>\n      <td>123.49</td>\n      <td>0.0295</td>\n      <td>511.373B</td>\n      <td>23.695B</td>\n      <td>23.695B</td>\n      <td>23.695B</td>\n      <td>118.645M</td>\n    </tr>\n    <tr>\n      <th>2</th>\n      <td>BNB-USD</td>\n      <td>BinanceCoin USD</td>\n      <td>579.82</td>\n      <td>10.85</td>\n      <td>0.0191</td>\n      <td>96.714B</td>\n      <td>2.376B</td>\n      <td>2.376B</td>\n      <td>2.376B</td>\n      <td>166.801M</td>\n    </tr>\n    <tr>\n      <th>3</th>\n      <td>USDT-USD</td>\n      <td>Tether USD</td>\n      <td>0.999563</td>\n      <td>-0.000893</td>\n      <td>-0.09%</td>\n      <td>75.981B</td>\n      <td>79.634B</td>\n      <td>79.634B</td>\n      <td>79.634B</td>\n      <td>76.014B</td>\n    </tr>\n    <tr>\n      <th>4</th>\n      <td>SOL1-USD</td>\n      <td>Solana USD</td>\n      <td>194.93</td>\n      <td>5.62</td>\n      <td>0.0297</td>\n      <td>59.631B</td>\n      <td>2.804B</td>\n      <td>2.804B</td>\n      <td>2.804B</td>\n      <td>305.911M</td>\n    </tr>\n    <tr>\n      <th>...</th>\n      <td>...</td>\n      <td>...</td>\n      <td>...</td>\n      <td>...</td>\n      <td>...</td>\n      <td>...</td>\n      <td>...</td>\n      <td>...</td>\n      <td>...</td>\n      <td>...</td>\n    </tr>\n    <tr>\n      <th>390</th>\n      <td>GRN-USD</td>\n      <td>GreenPower USD</td>\n      <td>0.012171</td>\n      <td>-0.001566</td>\n      <td>-11.40%</td>\n      <td>0</td>\n      <td>50</td>\n      <td>50</td>\n      <td>50</td>\n      <td>0</td>\n    </tr>\n    <tr>\n      <th>391</th>\n      <td>KNC-USD</td>\n      <td>KyberNetwork USD</td>\n      <td>1.5066</td>\n      <td>0.152</td>\n      <td>0.1122</td>\n      <td>0</td>\n      <td>128,861</td>\n      <td>128,861</td>\n      <td>128,861</td>\n      <td>0</td>\n    </tr>\n    <tr>\n      <th>392</th>\n      <td>BONFIRE-USD</td>\n      <td>Bonfire USD</td>\n      <td>0.00000002</td>\n      <td>0</td>\n      <td>0.1971</td>\n      <td>0</td>\n      <td>124,365</td>\n      <td>124,365</td>\n      <td>124,365</td>\n      <td>0</td>\n    </tr>\n    <tr>\n      <th>393</th>\n      <td>BST-USD</td>\n      <td>BlockStamp USD</td>\n      <td>0.066326</td>\n      <td>0.002342</td>\n      <td>0.0366</td>\n      <td>0</td>\n      <td>0</td>\n      <td>0</td>\n      <td>0</td>\n      <td>0</td>\n    </tr>\n    <tr>\n      <th>394</th>\n      <td>VBK-USD</td>\n      <td>VeriBlock USD</td>\n      <td>0.00408</td>\n      <td>-0.001334</td>\n      <td>-24.64%</td>\n      <td>0</td>\n      <td>16,154</td>\n      <td>16,154</td>\n      <td>16,154</td>\n      <td>0</td>\n    </tr>\n  </tbody>\n</table>\n<p>395 rows × 10 columns</p>\n</div>"
     },
     "execution_count": 91,
     "metadata": {},
     "output_type": "execute_result"
    }
   ],
   "source": [
    "crypto_dataset = pd.read_csv(\"data/archive/Cryptocurrency_Dataset_2021.csv\")\n",
    "crypto_dataset"
   ],
   "metadata": {
    "collapsed": false,
    "ExecuteTime": {
     "end_time": "2024-05-01T11:56:59.777566Z",
     "start_time": "2024-05-01T11:56:59.769839Z"
    }
   }
  },
  {
   "cell_type": "code",
   "execution_count": 92,
   "outputs": [],
   "source": [
    "currencies = [name for name in crypto_dataset[\"Name\"]]\n",
    "entities: list = []\n",
    "for currency in currencies:\n",
    "    entities.append(currency.split()[0])\n",
    "\n",
    "def get_entity(prompt: str):\n",
    "    matching_words = [word for word in entities if word in prompt]\n",
    "    # most_common_cur_mention, frequency = Counter(matching_words).most_common(1)[0]\n",
    "    most_common_cur_mention = Counter(matching_words).most_common(4)\n",
    "    return most_common_cur_mention"
   ],
   "metadata": {
    "collapsed": false,
    "ExecuteTime": {
     "end_time": "2024-05-01T11:57:00.839451Z",
     "start_time": "2024-05-01T11:57:00.835379Z"
    }
   }
  },
  {
   "cell_type": "markdown",
   "source": [
    "Extract the data from the web & News API"
   ],
   "metadata": {
    "collapsed": false
   }
  },
  {
   "cell_type": "code",
   "execution_count": 101,
   "outputs": [
    {
     "name": "stdout",
     "output_type": "stream",
     "text": [
      "No one needs this cryptocurrency-powered Steam Deck competitor\n",
      "title 0.0 avg. 0.047619047619047616  overall0.0\n",
      "Most Trending Cryptocurrency Today – Ethena, Meme Ai, Dogwifhat\n",
      "title 0.0 avg. 0.125  overall0.3125\n",
      "Venezuela bets on Tether cryptocurrency to skirt oil sanctions\n",
      "title 0.0 avg. 0.11538461538461539  overall0.0\n",
      "Crypto influencer guilty of $110M scheme that shut down Mango Markets\n",
      "title -1.0 avg. -0.05555555555555555  overall-0.125\n",
      "Drug boss ordered to hand over £3.5m\n",
      "title 0.0 avg. -0.07317073170731707  overall-0.14285714285714285\n",
      "A London millennial who turned about $6,000 into $30,000 through cryptocurrency investing shares his top investment tips\n",
      "title 0.0 avg. 0.125  overall0.3\n",
      "Change Healthcare Finally Admits It Paid Ransomware Hackers—and Still Faces a Patient Data Leak\n",
      "title 0.0 avg. -0.14285714285714285  overall-0.17647058823529413\n",
      "Goldman Sachs executive remains skeptical about Bitcoin\n",
      "title -1.0 avg. 0.1  overall0.3333333333333333\n",
      "Bitcoin, altcoins dip on Iran-Israel tensions\n",
      "title -1.0 avg. 0.06451612903225806  overall0.2727272727272727\n",
      "U.S. Government moves $2 billion in seized Bitcoin from Silk Road\n",
      "title 0.0 avg. 0.0  overall0.0\n",
      "Alleged Cryptojacking Scheme Consumed $3.5 Million of Stolen Computing To Make Just $1 Million\n",
      "title 0.0 avg. 0.021739130434782608  overall0.08333333333333333\n",
      "Coinbase to offer Worldcoin and Ordinals perpetual futures\n",
      "title 0.0 avg. 0.11538461538461539  overall0.25\n",
      "Binance founder faces 36-month prison term for violating US laws\n",
      "title 0.0 avg. 0.045454545454545456  overall0.18181818181818182\n",
      "Ripple CEO’s shares bullish Bitcoin and crypto predictions\n",
      "title 1.0 avg. 0.4230769230769231  overall0.5\n",
      "ESMA warns of crypto trading concentration on Binance\n",
      "title -1.0 avg. 0.18181818181818182  overall0.2727272727272727\n",
      "Elon Musk’s X platform ‘end goal’ could shake up crypto market\n",
      "title 1.0 avg. 0.03225806451612903  overall-0.07692307692307693\n",
      "Early Bitcoin miner moves 50 BTC after years of inactivity\n",
      "title 0.0 avg. 0.04  overall0.0\n",
      "Authorities warn of growing 'pig butchering' crypto scam\n",
      "title -1.0 avg. 0.0  overall-0.125\n",
      "Binance requests release of Nigeria-held executive\n",
      "title 0.0 avg. 0.047619047619047616  overall0.0\n",
      "‘Bitcoin and stocks may be about to have major correction’, says analyst\n",
      "title -1.0 avg. -0.08333333333333333  overall0.0\n",
      "Bitcoin’s price remains stable despite 2023 halving event\n",
      "title 1.0 avg. 0.13636363636363635  overall0.3\n",
      "300,000 Tether (USDT) Pot Played At Crypto Poker Site ‘CoinPoker’ – Tony G Vs Whale\n",
      "title 0.0 avg. 0.03333333333333333  overall0.1\n",
      "Bitcoin whales drive price above $67,000 resistance\n",
      "title -1.0 avg. 0.13043478260869565  overall0.3\n",
      "New Crypto ‘Bitcoin Minetrix’ Nears $13 Million Raised in Token Presale – What Is BTCMTX?\n",
      "title 1.0 avg. 0.19444444444444445  overall0.1875\n",
      "Trader loses $800k in crypto to malicious Google Chrome extension\n",
      "title -1.0 avg. -0.16666666666666666  overall-0.2\n",
      "Miners stockpile Bitcoin ahead of upcoming halving event\n",
      "title 0.0 avg. 0.2413793103448276  overall0.23076923076923078\n",
      "BlockDAG’s Path To $5 Million Daily Influx: A Deep Dive Into Its Version 2 Whitepaper Amidst Shiba Inu And PUSHD Market Trends\n",
      "title 0.0 avg. 0.4074074074074074  overall0.6923076923076923\n",
      "Crypto Whales Turn to BlockDAG Post DAGpaper Launch As Presale Hits $15.3M. Does it Have 100x Potential?\n",
      "title 0.0 avg. 0.21428571428571427  overall0.46153846153846156\n",
      "FBI subpoenas Brink co-founder for CoreDev Atlanta attendee data\n",
      "title 0.0 avg. -0.12  overall0.0\n",
      "The FTC is Trying To Help Victims of Impersonation Scams Get Their Money Back\n",
      "title 0.0 avg. -0.15151515151515152  overall-0.1\n",
      "Sam Bankman-Fried was the 'the poster child' of the effective altruism movement, now the charity he bankrolled is shutting down\n",
      "title 0.0 avg. -0.041666666666666664  overall-0.2\n",
      "Top 6 Leading Cryptos of 2024: Anticipated Lunar Event Propels BlockDAG Beyond SOL, AVAX, ADA, BNB, & UNI\n",
      "title 0.0 avg. 0.36363636363636365  overall0.6153846153846154\n",
      "Slothana Meme Coin Presale Ends Monday, Airdrop On Solana In 20 Hours\n",
      "title 0.0 avg. 0.2777777777777778  overall0.46153846153846156\n",
      "UK is aiming to regulate cryptocurrencies by July 2024\n",
      "title 0.0 avg. 0.09090909090909091  overall0.2\n",
      "SEC opens comment period for Ethereum spot ETF proposals\n",
      "title 0.0 avg. 0.0  overall0.1111111111111111\n",
      "Approved spot Bitcoin ETFs could be coming to Australia’s largest stock exchange\n",
      "title 0.0 avg. 0.11538461538461539  overall0.2727272727272727\n",
      "Google sues two crypto app makers over allegedly vast “pig butchering” scheme\n",
      "title -1.0 avg. -0.037037037037037035  overall-0.26666666666666666\n",
      "2 founders of a crypto mixer charged with laundering funds from the dark web\n",
      "title 0.0 avg. 0.0  overall0.0\n",
      "Billions of public Discord messages may be sold through a scraping service\n",
      "title 0.0 avg. 0.0  overall0.0\n",
      "Dogwifhat Price Prediction: Top 3 Meme Coin WIF Hits Record 1.32B Volume With OKX Listing\n",
      "title 0.0 avg. 0.075  overall0.23076923076923078\n",
      "Solana breaks $200 amid looming airdrop anticipation\n",
      "title 0.0 avg. 0.36363636363636365  overall0.6\n",
      "New Token Based Degen Club ($BDC) Pumps 600% On Launch Day – $1.4M MC\n",
      "title 1.0 avg. 0.23333333333333334  overall0.5\n",
      "Bitcoin wallets holding over $1,000 surge 20% in 2024\n",
      "title 1.0 avg. 0.08333333333333333  overall0.09090909090909091\n",
      "BlockDAG Sets New Precedents in Crypto Presales With 20,000x ROI, Overshadowing Furrever and Borroe\n",
      "title 0.0 avg. 0.34782608695652173  overall0.5454545454545454\n",
      "GBTC outflows drop significantly as Bitcoin price rebounds\n",
      "title -1.0 avg. 0.07692307692307693  overall-0.1\n",
      "Chinese fund managers seek Bitcoin ETF approval in Hong Kong\n",
      "title 0.0 avg. 0.17391304347826086  overall0.0\n",
      "Binance obtains virtual asset service provider license in Dubai\n",
      "title 0.0 avg. 0.22727272727272727  overall0.4\n",
      "Samourai Wallet founders arrested, crypto market tumbles\n",
      "title -1.0 avg. -0.1724137931034483  overall-0.2\n",
      "U.K. law enforcement gets news powers to seize crypto\n",
      "title 0.0 avg. 0.22727272727272727  overall0.4\n",
      "Hong Kong launches Asia’s first sport Bitcoin and Ethereum ETFs\n",
      "title 0.0 avg. 0.047619047619047616  overall-0.2727272727272727\n",
      "Hong Kong approves first spot Bitcoin and Ethereum ETFs\n",
      "title 0.0 avg. 0.38095238095238093  overall0.45454545454545453\n",
      "Failed to fetch the webpage. Status code: 401\n",
      "Podcast #986: How to Eliminate the Two Biggest Sources of Financial Stress\n",
      "title 0.0 avg. 0.0  overall0.0\n",
      "X blue checkmarks being forced on journalists who don’t want them\n",
      "title 0.0 avg. 0.08  overall0.0\n",
      "No longer possible to hide the blue badge of shame on X [U]\n",
      "title 0.0 avg. 0.08  overall0.0\n",
      "Findings Reveal BlockDAG’s 20,000x ROI Impeded Cardano’s Price Forecast & IOTA’s Technological Advancements in Q1\n",
      "title 0.0 avg. 0.3333333333333333  overall0.6153846153846154\n",
      "Trending Meme Coins to Watch – Cat in a Dogs World (MEW), Book Of Meow (BOMEOW), Kitten Haimer (KHAI)\n",
      "title 0.0 avg. 0.358974358974359  overall0.4\n",
      "Short sellers face liquidations as Bitcoin breaks above $68,000\n",
      "title -1.0 avg. 0.24390243902439024  overall0.5\n",
      "Bitcoin price rise: a look at possible causes\n",
      "title 1.0 avg. 0.3125  overall0.5384615384615384\n",
      "VanEck CEO skeptical about spot Ethereum ETF approval in May\n",
      "title -1.0 avg. -0.045454545454545456  overall0.09090909090909091\n",
      "Fake Lawsuit Threat Exposes Privnote Phishing Sites\n",
      "title 0.0 avg. -0.03571428571428571  overall-0.058823529411764705\n",
      "To make sure grandmas like his don't get conned, he scams the scammers\n",
      "title 0.0 avg. 0.09523809523809523  overall-0.05\n",
      "Get Your Taxes Done but Don't Get Scammed in the Process - CNET\n",
      "title 0.0 avg. -0.13636363636363635  overall-0.09090909090909091\n",
      "Failed to fetch the webpage. Status code: 403\n",
      "Bitcoin is on a rollercoaster ride with the big 'halving' on the horizon\n",
      "title 0.0 avg. -0.5  overall-0.8\n",
      "Failed to fetch the webpage. Status code: 401\n",
      "Don't count on a big Bitcoin rally after the big 'halving' event, JPMorgan says\n",
      "title 0.0 avg. -0.2  overall0.0\n",
      "Former Apple researchers launch startup focused on protecting iOS devices\n",
      "title 0.0 avg. 0.0  overall0.0\n",
      "Trump Media stock sinks, gold soars, and Bitcoin bleeds: Markets news roundup\n",
      "title -1.0 avg. -0.16666666666666666  overall-0.25\n",
      "FTX’ Sam Bankman-Fried appeals conviction and 25-year sentence for fraud\n",
      "title 0.0 avg. -0.14285714285714285  overall-0.5\n",
      "Bitcoin is chilling at $66,000 after the 'halving'\n",
      "title 0.0 avg. 0.3125  overall0.75\n",
      "Investing in Bitcoin is 'wildly speculative,' strategist says\n",
      "title 0.0 avg. 0.0  overall0.0\n",
      "WSJ: Russia using cryptocurrency to avoid sanctions\n",
      "title 0.0 avg. 0.1111111111111111  overall0.0\n",
      "Bitcoin Core Portable 26.1 (cryptocurrency) Released\n",
      "title 0.0 avg. 0.0  overall0.0\n",
      "Why there will never be another Bitcoin\n",
      "title 0.0 avg. -0.017241379310344827  overall-0.041666666666666664\n",
      "Rollbit Coin Price Prediction With RLB Token Burn – Channel Breakout Next?\n",
      "title 0.0 avg. 0.17777777777777778  overall0.4\n",
      "Bitcoin Core Portable 27.0 (cryptocurrency) Released\n",
      "title 0.0 avg. 0.0  overall0.0\n",
      "Bitcoin is bleeding. Why it's dropped below $65,000\n",
      "title -1.0 avg. -0.5384615384615384  overall-0.8333333333333334\n",
      "The SEC is targeting yet another crypto platform\n",
      "title 0.0 avg. 0.06666666666666667  overall0.0\n",
      "Failed to fetch the webpage. Status code: 403\n",
      "Sam Bankman-Fried speaks from prison for the first time: ‘I'm haunted, every day, by what was lost.’\n",
      "title 0.0 avg. -0.13333333333333333  overall0.0\n",
      "Disney succession, SBF speaks, and tech billionaires' California dream: Leadership news roundup\n",
      "title 0.0 avg. 0.04  overall0.0\n",
      "Gen Z and millennials are as likely to own crypto as they are to own real estate\n",
      "title 0.0 avg. -0.125  overall0.0\n",
      "Crypto stocks are soaring as Bitcoin tops $72,000 — with the big 'halving' event in sight\n",
      "title 1.0 avg. 0.4666666666666667  overall0.8\n",
      "MicroStrategy, Coinbase, and other crypto stocks jump after the Bitcoin 'halving'\n",
      "title 1.0 avg. 0.45454545454545453  overall1.0\n",
      "Bitcoin falls below $60,000 as halving nerves set in\n",
      "title -1.0 avg. -0.14285714285714285  overall-0.14285714285714285\n",
      "The big Bitcoin 'halving' event is almost here. We've got answers to all your questions\n",
      "title 0.0 avg. -0.1724137931034483  overall0.0\n",
      "Bitcoin falls below $64,000 as Meta, Microsoft and Alphabet continue to drop\n",
      "title -1.0 avg. -0.4  overall-1.0\n",
      "A teen posing as an oligarch's son mysteriously jumped to his death after befriending a gangster and a crypto millionaire\n",
      "title 0.0 avg. -0.022222222222222223  overall0.0\n",
      "Meme stocks are back in fashion. Here's how to find one.\n",
      "title 0.0 avg. -0.043478260869565216  overall-0.25\n",
      "Ready or not, the youngest boomers are retiring\n",
      "title 0.0 avg. -0.03636363636363636  overall-0.42857142857142855\n",
      "Cryptocurrency: Top 3 Altcoins That May Surge 50%\n",
      "title 1.0 avg. 0.1111111111111111  overall0.0\n",
      "Bitcoin passes $65,000 on the big 'halving' day\n",
      "title 1.0 avg. 0.2727272727272727  overall1.0\n",
      "Cryptocurrency: Top 3 Coins to Watch This Week\n",
      "title 0.0 avg. 0.1111111111111111  overall0.0\n",
      "Central Bank of Fiji Warns About Penalties For Purchasing Cryptocurrency\n",
      "title -1.0 avg. 0.0  overall0.0\n",
      "Bitcoin is rebounding after a rollercoaster ride—thanks to Hong Kong\n",
      "title 1.0 avg. 0.13333333333333333  overall-0.5\n",
      "Google sued scammers who put a bunch of fake investing apps on Google Play\n",
      "title 0.0 avg. -0.08333333333333333  overall-0.2\n",
      "A crypto company is suing the SEC for overreach in regulating Ether\n",
      "title 0.0 avg. 0.0  overall0.0\n",
      "Bitcoin lifts crypto stocks, Meta sinks, Spotify soars, and Rubrik IPOs: Markets news roundup\n",
      "title 1.0 avg. 0.08695652173913043  overall-0.3333333333333333\n",
      "Cryptocurrency: 3 Trending AI Coins To Buy For Gains\n",
      "title 0.0 avg. 0.1111111111111111  overall0.0\n"
     ]
    }
   ],
   "source": [
    "for article in json_data[\"articles\"]:\n",
    "    source, author, title, description, url, urlToImage, published_at, content = [article[keys] for keys in article.keys()]\n",
    "    web_response = requests.get(url)\n",
    "    if web_response.status_code == 200:\n",
    "            soup = BeautifulSoup(web_response.text, 'html.parser')\n",
    "            paragraphs = soup.find_all('p')\n",
    "            paragraph_texts = [paragraph.getText(strip=True) for paragraph in paragraphs]\n",
    "            combined_paragraph_text = ' '.join(paragraph_texts)\n",
    "\n",
    "            limit_paragraph = split_text(combined_paragraph_text)\n",
    "            currency_mention = get_entity(title + combined_paragraph_text)\n",
    "            title_sentimental = [analyize_sentimental_text(title)]\n",
    "            overall_sentimental_scores = [analyize_sentimental_text(paragraph_sentence) for paragraph_sentence in limit_paragraph]\n",
    "            sentimental_scores = [analyize_sentimental_text(paragraph_text) for paragraph_text in paragraph_texts]\n",
    "\n",
    "            avg_title_sentimental = avg_score_finder(title_sentimental)\n",
    "            avg_sentimental_sentimental = avg_score_finder(sentimental_scores)\n",
    "            avg_overall_sentimental = avg_score_finder(overall_sentimental_scores)\n",
    "\n",
    "\n",
    "            print(f'{title}\\n'\n",
    "                  f'title sentimental score {avg_title_sentimental} '\n",
    "                  f'sentimental avg. score {avg_sentimental_sentimental}  '\n",
    "                  f'overall sentimental_score {avg_overall_sentimental}')\n",
    "\n",
    "            update_into_payload = {\n",
    "                \"Currency\" : currency_mention if currency_mention else None,\n",
    "                \"paragraph\" : paragraph_texts,\n",
    "                \"avg title sentimental\": avg_title_sentimental,\n",
    "                \"avg sentimental sentimental\" : avg_sentimental_sentimental,\n",
    "                \"avg overall sentimental\" : avg_overall_sentimental,\n",
    "                \"headline sentimental\" : title_sentimental,\n",
    "                \"sentimental\" : sentimental_scores,\n",
    "                \"overall sentimental score\" : overall_sentimental_scores\n",
    "            ,}\n",
    "            article.update(update_into_payload)\n",
    "\n",
    "            # update json extracted_text_data.json\n",
    "            append_json_data(\"data/extracted_text_data.json\", article)\n",
    "    else: print(\"Failed to fetch the webpage. Status code:\", web_response.status_code)"
   ],
   "metadata": {
    "collapsed": false,
    "ExecuteTime": {
     "end_time": "2024-05-01T12:08:07.216521Z",
     "start_time": "2024-05-01T12:05:29.688031Z"
    }
   }
  },
  {
   "cell_type": "markdown",
   "source": [
    "\n",
    "This will be part of the main Training Algorithm"
   ],
   "metadata": {
    "collapsed": false
   }
  },
  {
   "cell_type": "code",
   "execution_count": 2,
   "outputs": [],
   "source": [],
   "metadata": {
    "collapsed": false,
    "ExecuteTime": {
     "end_time": "2024-05-09T15:56:46.113041Z",
     "start_time": "2024-05-09T15:56:45.789061Z"
    }
   }
  },
  {
   "cell_type": "code",
   "execution_count": null,
   "outputs": [],
   "source": [],
   "metadata": {
    "collapsed": false
   }
  }
 ],
 "metadata": {
  "kernelspec": {
   "display_name": "Python 3",
   "language": "python",
   "name": "python3"
  },
  "language_info": {
   "codemirror_mode": {
    "name": "ipython",
    "version": 2
   },
   "file_extension": ".py",
   "mimetype": "text/x-python",
   "name": "python",
   "nbconvert_exporter": "python",
   "pygments_lexer": "ipython2",
   "version": "2.7.6"
  }
 },
 "nbformat": 4,
 "nbformat_minor": 0
}

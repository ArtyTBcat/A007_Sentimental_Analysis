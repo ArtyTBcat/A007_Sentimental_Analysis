{
 "cells": [
  {
   "cell_type": "code",
   "execution_count": 1,
   "metadata": {
    "collapsed": true,
    "ExecuteTime": {
     "end_time": "2024-04-25T10:49:14.656538Z",
     "start_time": "2024-04-25T10:46:15.443387Z"
    }
   },
   "outputs": [
    {
     "name": "stderr",
     "output_type": "stream",
     "text": [
      "Downloading: 100%|██████████| 1.98G/1.98G [02:47<00:00, 11.8MiB/s]\n",
      "Verifying: 100%|██████████| 1.98G/1.98G [00:03<00:00, 537MiB/s]\n"
     ]
    }
   ],
   "source": [
    "import torch\n",
    "import transformers"
   ]
  },
  {
   "cell_type": "code",
   "execution_count": 5,
   "outputs": [],
   "source": [
    "from gpt4all import GPT4All\n",
    "model = GPT4All(\"orca-mini-3b-gguf2-q4_0.gguf\")"
   ],
   "metadata": {
    "collapsed": false,
    "ExecuteTime": {
     "end_time": "2024-04-25T10:57:24.984834Z",
     "start_time": "2024-04-25T10:57:24.357877Z"
    }
   }
  },
  {
   "cell_type": "code",
   "execution_count": 21,
   "outputs": [
    {
     "name": "stdout",
     "output_type": "stream",
     "text": [
      " The current pullback could be an opportunity for investors to add some exposure to the market at lower prices, according to analysts.\n"
     ]
    }
   ],
   "source": [
    "def stop_on_token_callback(token_id, token_string):\n",
    "    if '.' in token_string: return False\n",
    "    else: return True\n",
    "response = model.generate(\"Summarize this news, BlackRock’s spot bitcoin exchange-traded fund (ETF), which trades under the ticker IBIT on Nasdaq, fell out of favor on Wednesday, preliminary data published by Farside Investors showed. For the first time since going live on January 11, the fund did not draw any investor money, snapping a 71-day inflows streak. Seven out of the other ten funds followed IBIT’s lead. Fidelity’s FBTC and the ARK 21Shares Bitcoin ETF (ARKB) registered inflows of $5.6 million and $4,2 million, respectively, while Grayscale’s GBTC bled $130.4 million, leading to a new cumulative outflow of $120.6 million, the highest since April 17. Spot ETFs debuted in the U.S. on January 11 with much fanfare, promising to pull billions of dollars in institutional money. To date, BlackRock’s IBIT has alone amassed more than $15 billion, while the 11 funds taken together have registered a net inflow of over $12 billion. However, most inflows happened in the first quarter, and the uptake has slowed this month, taking the wind out of the bitcoin bull run.Bitcoin (BTC), the leading cryptocurrency by market value, has traded primarily between $60,000 and $70,000 this month, CoinDesk data show, marking a weak follow-through to the first quarter’s near 70% rally to record highs above $73,500.\", temp= 0, callback=stop_on_token_callback)\n",
    "print(response)"
   ],
   "metadata": {
    "collapsed": false,
    "ExecuteTime": {
     "end_time": "2024-04-25T11:14:23.812384Z",
     "start_time": "2024-04-25T11:14:18.217568Z"
    }
   }
  },
  {
   "cell_type": "code",
   "execution_count": 23,
   "outputs": [],
   "source": [
    "new_api = \"6064ea25c53d48a3abd8159d80cc92c6\"\n",
    "newsapi_url = \"https://newsapi.org/v2/top-headlines?country=us&apiKey=6064ea25c53d48a3abd8159d80cc92c6\""
   ],
   "metadata": {
    "collapsed": false,
    "ExecuteTime": {
     "end_time": "2024-04-25T11:43:33.873639Z",
     "start_time": "2024-04-25T11:43:33.869898Z"
    }
   }
  },
  {
   "cell_type": "code",
   "execution_count": 24,
   "outputs": [
    {
     "name": "stdout",
     "output_type": "stream",
     "text": [
      "Response content: {\"status\":\"ok\",\"totalResults\":35,\"articles\":[{\"source\":{\"id\":\"cnn\",\"name\":\"CNN\"},\"author\":\"Natasha Bertrand, Alex Marquardt\",\"title\":\"New US military aid package to Ukraine expected to be worth around $1 billion - CNN\",\"description\":\"The Biden administration is preparing a new aid package for Ukraine that is expected to be worth around $1 billion, multiple sources familiar with the matter told CNN.\",\"url\":\"https://www.cnn.com/2024/04/23/politics/us-ukraine-military-aid-package/index.html\",\"urlToImage\":\"https://media.cnn.com/api/v1/images/stellar/prod/230714170843-atacms-file-2021.jpg?c=16x9&q=w_800,c_fill\",\"publishedAt\":\"2024-04-24T10:16:00Z\",\"content\":\"The Biden administration is preparing a new aid package for Ukraine that is expected to be worth around $1 billion, multiple sources familiar with the matter told CNN.\\r\\nThe Senate passed the legislat… [+3723 chars]\"},{\"source\":{\"id\":\"reuters\",\"name\":\"Reuters\"},\"author\":\"Reuters\",\"title\":\"US Senate passes TikTok divestment-or-ban bill, Biden set to make it law - Reuters\",\"description\":null,\"url\":\"https://www.reuters.com/world/us/senators-hope-tiktok-will-remain-business-us-under-new-owner-2024-04-23/\",\"urlToImage\":null,\"publishedAt\":\"2024-04-24T10:06:00Z\",\"content\":null},{\"source\":{\"id\":null,\"name\":\"BBC News\"},\"author\":null,\"title\":\"Tesla profits cut in half as demand falls - BBC.com\",\"description\":\"The EV maker brings forward launch plans for new models as profits drop by more than half.\",\"url\":\"https://www.bbc.com/news/articles/c72pvz18x4lo\",\"urlToImage\":\"https://ichef.bbci.co.uk/news/1024/branded_news/6696/live/460a1f90-01bd-11ef-911a-89ede1ae3943.jpg\",\"publishedAt\":\"2024-04-24T09:40:16Z\",\"content\":null},{\"source\":{\"id\":null,\"name\":\"CNBC\"},\"author\":\"Annika Kim Constantino\",\"title\":\"More than 3 million Medicare patients could be eligible for coverage of Wegovy to reduce heart disease risks, study says - CNBC\",\"description\":\"For the first time, some Medicare beneficiaries will be able to access Novo Nordisk's Wegovy without having to shoulder the total monthly price tag.\",\"url\":\"https://www.cnbc.com/2024/04/24/wegovy-3point6-million-medicare-patients-could-get-heart-health-coverage.html\",\"urlToImage\":\"https://image.cnbcfm.com/api/v1/image/107388183-17105168322024-03-08t155804z_1586224836_rc2kh6a50cn0_rtrmadp_0_totw-obesity.jpeg?v=1710516917&w=1920&h=1080\",\"publishedAt\":\"2024-04-24T09:00:01Z\",\"content\":\"More than 3 million people with Medicare could be eligible for coverage of Wegovy now that the blockbuster weight loss drug is also approved in the U.S. for heart health, according to an analysis rel… [+3919 chars]\"},{\"source\":{\"id\":\"politico\",\"name\":\"Politico\"},\"author\":\"POLITICO\",\"title\":\"How McConnell and Schumer beat hardline conservatives on Ukraine - POLITICO\",\"description\":null,\"url\":\"https://www.politico.com/news/2024/04/24/mitch-mcconnell-israel-ukraine-aid-00153990\",\"urlToImage\":null,\"publishedAt\":\"2024-04-24T09:00:00Z\",\"content\":null},{\"source\":{\"id\":null,\"name\":\"BBC News\"},\"author\":null,\"title\":\"Columbia University: Pro-Palestinian protesters refuse to disband - BBC.com\",\"description\":\"A deadline for pro-Palestinian protesters to disband from the university's main campus was set for midnight.\",\"url\":\"https://www.bbc.com/news/world-us-canada-68883271\",\"urlToImage\":\"https://ichef.bbci.co.uk/news/1024/branded_news/58D5/production/_133214722_84b134acf0ace17ee408d1376b8c51b49688aca9.jpg\",\"publishedAt\":\"2024-04-24T08:49:04Z\",\"content\":null},{\"source\":{\"id\":null,\"name\":\"CBS Sports\"},\"author\":\"\",\"title\":\"2024 NFL Mock Draft: Brinson's Worst Mock Ever designed to anger every single NFL fan base - CBS Sports\",\"description\":\"Will Brinson trolls his boat once again\",\"url\":\"https://www.cbssports.com/nfl/draft/news/2024-nfl-mock-draft-brinsons-worst-mock-ever-designed-to-anger-every-single-nfl-fan-base/\",\"urlToImage\":\"https://sportshub.cbsistatic.com/i/r/2024/04/17/0e98acb0-a94b-49bd-94a4-e3053b13e4ad/thumbnail/1200x675/9a41c3a0c320997eed683d1378f0fb78/mccarthy.jpg\",\"publishedAt\":\"2024-04-24T06:43:00Z\",\"content\":\"Last year I finally did something I'd been meaning to do for years, putting together the WORST MOCK DRAFT EVER. The purpose? To troll every single NFL fan base (or at least as many as possible) with … [+1565 chars]\"},{\"source\":{\"id\":null,\"name\":\"CoinDesk\"},\"author\":\"Oliver Knight\",\"title\":\"Tether Will Freeze Wallets Evading Venezuelan Sanctions - CoinDesk\",\"description\":\"Use of Tether has increased in Venezuela after the U.S. reimposed sanctions on oil exports.\",\"url\":\"https://www.coindesk.com/policy/2024/04/24/tether-will-freeze-wallets-evading-venezuelan-sanctions/\",\"urlToImage\":\"https://www.coindesk.com/resizer/8cx1BDQoNSgSB2YIeTEuVe6fezU=/1200x628/center/middle/cloudfront-us-east-1.images.arcpublishing.com/coindesk/IITCU4WJYVBGVFHB6CYNBEIK3I.JPG\",\"publishedAt\":\"2024-04-24T06:31:00Z\",\"content\":\"<ul><li>A tether spokesperson said that it will freeze addresses linked to evading sanctions.\\r\\n</li><li>Reuters reported earlier this week that Venezuelan oil company PDVSA was using USDT via interme… [+1961 chars]\"},{\"source\":{\"id\":\"the-washington-post\",\"name\":\"The Washington Post\"},\"author\":\"Colby Itkowitz, Dylan Wells\",\"title\":\"Summer Lee wins Pennsylvania primary, despite criticism of Israel-Gaza war - The Washington Post\",\"description\":\"The race in Pennsylvania’s 12th District was considered a first test for the “Squad” of left-wing, progressive Democrats in Congress.\",\"url\":\"https://www.washingtonpost.com/politics/2024/04/23/pennsylvania-primary-election-summer-lee-win/\",\"urlToImage\":\"https://www.washingtonpost.com/wp-apps/imrs.php?src=https://arc-anglerfish-washpost-prod-washpost.s3.amazonaws.com/public/RH3LSHF7FJ3MOJ2EA7Y2H5COUM.JPG&w=1440\",\"publishedAt\":\"2024-04-24T05:37:00Z\",\"content\":\"Rep. Summer Lee, a far-left Democrat who has been critical of Israels military actions in Gaza, prevailed in Tuesdays Pennsylvania primary election, which served as a microcosm of the larger intrapar… [+5797 chars]\"},{\"source\":{\"id\":null,\"name\":\"YouTube\"},\"author\":null,\"title\":\"Luka Doncic (32 points) Highlights vs. LA Clippers | 4/23/24 - Dallas Mavericks\",\"description\":\"Luka Doncic (32 points) Highlights vs. LA ClippersJoin Club Maverick!Check out the Mavs 2023-24 season tickets:https://www.mavs.com/tickets/DALLAS MAVERICKS ...\",\"url\":\"https://www.youtube.com/watch?v=EPVnNWeTp78\",\"urlToImage\":\"https://i.ytimg.com/vi/EPVnNWeTp78/maxresdefault.jpg\",\"publishedAt\":\"2024-04-24T05:22:03Z\",\"content\":null},{\"source\":{\"id\":null,\"name\":\"New York Post\"},\"author\":\"Fox Business\",\"title\":\"Oracle announces plans to move world headquarters to Nashville - New York Post \",\"description\":\"Back in 2022, Oracle acquired Cerner for $28 billion. The Kansas City, Missouri-based company provides software for managing electronic health records.\",\"url\":\"https://nypost.com/2024/04/24/business/oracle-announces-plans-to-move-world-headquarters-to-nashville/\",\"urlToImage\":\"https://nypost.com/wp-content/uploads/sites/2/2024/04/newspress-collage-8i2cj5x89-1713934139434.jpg?quality=75&strip=all&1713919768&w=1024\",\"publishedAt\":\"2024-04-24T05:03:00Z\",\"content\":\"Oracle founder Larry Ellison announced Tuesday that he plans to move the software giants corporate headquarters to Nashville, Tennessee, which he added is at the center of the healthcare industry.\\r\\nE… [+2267 chars]\"},{\"source\":{\"id\":\"politico\",\"name\":\"Politico\"},\"author\":\"POLITICO\",\"title\":\"Tennessee lawmakers pass bill to allow teachers to be armed - POLITICO\",\"description\":null,\"url\":\"https://www.politico.com/news/2024/04/24/tennessee-lawmakers-pass-bill-to-allow-teachers-to-be-armed-00154042\",\"urlToImage\":null,\"publishedAt\":\"2024-04-24T04:28:20Z\",\"content\":null},{\"source\":{\"id\":\"cnn\",\"name\":\"CNN\"},\"author\":\"Stephen Collinson\",\"title\":\"How a gag order showdown explains everything about Trump - CNN\",\"description\":\"Prosecutor Christopher Conroy captured the quintessential Donald Trump in a single sentence at the ex-President’s hush money trial on Tuesday.\",\"url\":\"https://www.cnn.com/2024/04/23/politics/donald-trump-gag-order-analysis/index.html\",\"urlToImage\":\"https://media.cnn.com/api/v1/images/stellar/prod/gettyimages-2149316078.jpg?c=16x9&q=w_800,c_fill\",\"publishedAt\":\"2024-04-24T04:03:03Z\",\"content\":\"Prosecutor Chris Conroy captured the quintessential Donald Trump in a single sentence at the ex-presidents hush money trial on Tuesday.\\r\\nHe knows what hes not allowed to do, and he does it anyway.\\r\\nC… [+8504 chars]\"},{\"source\":{\"id\":null,\"name\":\"[Removed]\"},\"author\":null,\"title\":\"[Removed]\",\"description\":\"[Removed]\",\"url\":\"https://removed.com\",\"urlToImage\":null,\"publishedAt\":\"1970-01-01T00:00:00Z\",\"content\":\"[Removed]\"},{\"source\":{\"id\":\"usa-today\",\"name\":\"USA Today\"},\"author\":\", USA TODAY\",\"title\":\"Houston Texans uniform reveal: Franchise unveils historic new look - USA TODAY\",\"description\":\"The Houston Texans unveiled a bold shift in their look on Tuesday with new uniforms, with their alternate and Color Rush looks getting big changes.\",\"url\":\"https://www.usatoday.com/story/sports/nfl/texans/2024/04/23/houston-texans-uniform-photos-helmet-jersey-redesign/73424746007/\",\"urlToImage\":\"https://www.gannett-cdn.com/authoring/authoring-images/2024/04/23/USAT/73425020007-2024-texans-rebrand-assets-external-media-0004.jpg?auto=webp&crop=5744,3231,x41,y230&format=pjpg&width=1200\",\"publishedAt\":\"2024-04-24T03:45:00Z\",\"content\":\"Since they first took an NFL field in 2002, the Houston Texans have pretty much looked the same.\\r\\nNo more and not simply because quarterback C.J. Stroud and a loaded roster could be headed to new hei… [+2409 chars]\"},{\"source\":{\"id\":null,\"name\":\"FOX 35 Orlando\"},\"author\":\"FOX 35 Orlando\",\"title\":\"SpaceX's Falcon 9 rocket launches more satellites into space - FOX 35 Orlando\",\"description\":\"Nearly two dozen of SpaceX's Starlink satellites were launched into space Tuesday from Florida's Kennedy Space Center.\",\"url\":\"https://www.fox35orlando.com/news/spacex-set-to-launch-falcon-9-rocket-carrying-starlink-satellites-from-florida-tuesday-evening\",\"urlToImage\":\"https://images.foxtv.com/static.fox35orlando.com/www.fox35orlando.com/content/uploads/2024/04/1280/720/GettyImages-2021273237-1.jpg?ve=1&tl=1\",\"publishedAt\":\"2024-04-24T03:24:24Z\",\"content\":\"CAPE CANAVERAL, Fla. - Nearly two dozen of SpaceX's Starlink satellites were launched into space Tuesday from Florida's Kennedy Space Center.\\r\\nSpaceX's Falon 9 rocket lifted off from Space Launch Com… [+711 chars]\"},{\"source\":{\"id\":null,\"name\":\"Eonline.com\"},\"author\":\"Gabrielle Chung\",\"title\":\"Christina Applegate Suffering From \\\"Gross\\\" Sapovirus Symptoms After Unknowingly Ingesting Poop - E! Online - E! NEWS\",\"description\":\"Christina Applegate contracted sapovirus—a virus transmitted through fecal-oral contact—amid her battle with multiple sclerosis: \\\"Someone else's poop went into my mouth and I ate it.\\\"\",\"url\":\"https://www.eonline.com/news/1400039/christina-applegate-suffering-from-gross-sapovirus-symptoms-after-unknowingly-ingesting-poop\",\"urlToImage\":\"https://akns-images.eonline.com/eol_images/Entire_Site/2024323/cr_1200x1200-240423185235-GettyImages-1200607675.jpg?fit=around%7C1080:1080&output-quality=90&crop=1080:1080;center,top\",\"publishedAt\":\"2024-04-24T03:10:00Z\",\"content\":\"Christina Applegate is getting candid about a crappy experience.\\r\\nThe Dead to Me star graphically detailed her recent bout of sapovirus, a virus commonly transmitted through fecal-oral contact, color… [+844 chars]\"},{\"source\":{\"id\":\"abc-news\",\"name\":\"ABC News\"},\"author\":\"Devin Dwyer\",\"title\":\"Supreme Court takes up Trump's claim of 'absolute immunity' from criminal prosecution - ABC News\",\"description\":\"The fate of his federal criminal Jan. 6 trial hinges on the court's decision.\",\"url\":\"https://abcnews.go.com/Politics/supreme-court-takes-trumps-claim-absolute-immunity-criminal/story?id=109251013\",\"urlToImage\":\"https://i.abcnewsfe.com/a/8052b717-83e3-468d-b01f-55f5bee42e48/donald-trump-4-gty-gmh-240422_1713816390447_hpMain_16x9.jpg?w=1600\",\"publishedAt\":\"2024-04-24T02:42:16Z\",\"content\":\"Against the backdrop of a divisive 2024 presidential campaign, the U.S. Supreme Court on Thursday will take up the monumental question of whether a former president turned presumptive GOP nominee can… [+5754 chars]\"},{\"source\":{\"id\":null,\"name\":\"YouTube\"},\"author\":null,\"title\":\"#6 SUNS at #3 TIMBERWOLVES | FULL GAME 2 HIGHLIGHTS | April 23, 2024 - NBA\",\"description\":\"Never miss a moment with the latest news, trending stories and highlights to bring you closer to your favorite players and teams.Download now: https://link.n...\",\"url\":\"https://www.youtube.com/watch?v=vzql7IiLmlA\",\"urlToImage\":\"https://i.ytimg.com/vi/vzql7IiLmlA/maxresdefault.jpg\",\"publishedAt\":\"2024-04-24T02:22:52Z\",\"content\":null},{\"source\":{\"id\":\"the-hill\",\"name\":\"The Hill\"},\"author\":\"Nick Robertson\",\"title\":\"UN calls for investigation into mass graves found at Gaza hospitals - The Hill\",\"description\":\"United Nations leaders demanded a “clear, transparent and credible” investigation Tuesday after mass graves containing the bodies of hundreds of men and women were discovered on the grounds of two major hospitals in Gaza that were previously under assault by …\",\"url\":\"https://thehill.com/policy/international/4616720-un-calls-for-investigation-into-mass-graves-found-at-gaza-hospitals/\",\"urlToImage\":\"https://thehill.com/wp-content/uploads/sites/2/2024/04/GettyImages-2148009059-2.jpg?w=1280\",\"publishedAt\":\"2024-04-24T01:12:00Z\",\"content\":\"Skip to content\\r\\nUnited Nations leaders demanded a “clear, transparent and credible” investigation Tuesday after mass graves containing the bodies of hundreds of men and women were discovered on the … [+2674 chars]\"}]}\n"
     ]
    }
   ],
   "source": [
    "import requests\n",
    "response = requests.get(newsapi_url)\n",
    "\n",
    "if response.status_code == 200:\n",
    "    print(\"Response content:\", response.text)\n",
    "else:\n",
    "    print(\"Error:\", response.status_code)"
   ],
   "metadata": {
    "collapsed": false,
    "ExecuteTime": {
     "end_time": "2024-04-25T11:43:34.608246Z",
     "start_time": "2024-04-25T11:43:34.190939Z"
    }
   }
  },
  {
   "cell_type": "code",
   "execution_count": 32,
   "outputs": [
    {
     "data": {
      "text/plain": "<Response [200]>"
     },
     "execution_count": 32,
     "metadata": {},
     "output_type": "execute_result"
    }
   ],
   "source": [
    "response.text"
   ],
   "metadata": {
    "collapsed": false,
    "ExecuteTime": {
     "end_time": "2024-04-25T11:46:12.476796Z",
     "start_time": "2024-04-25T11:46:12.472286Z"
    }
   }
  },
  {
   "cell_type": "code",
   "execution_count": 30,
   "outputs": [
    {
     "ename": "TypeError",
     "evalue": "'Response' object is not subscriptable",
     "output_type": "error",
     "traceback": [
      "\u001B[0;31m---------------------------------------------------------------------------\u001B[0m",
      "\u001B[0;31mTypeError\u001B[0m                                 Traceback (most recent call last)",
      "Cell \u001B[0;32mIn[30], line 2\u001B[0m\n\u001B[1;32m      1\u001B[0m \u001B[38;5;28;01mimport\u001B[39;00m \u001B[38;5;21;01mpandas\u001B[39;00m \u001B[38;5;28;01mas\u001B[39;00m \u001B[38;5;21;01mpd\u001B[39;00m\n\u001B[0;32m----> 2\u001B[0m response_df \u001B[38;5;241m=\u001B[39m pd\u001B[38;5;241m.\u001B[39mDataFrame(\u001B[38;5;28mdict\u001B[39m(\u001B[43mresponse\u001B[49m\u001B[43m[\u001B[49m\u001B[38;5;241;43m0\u001B[39;49m\u001B[43m]\u001B[49m))\n",
      "\u001B[0;31mTypeError\u001B[0m: 'Response' object is not subscriptable"
     ]
    }
   ],
   "source": [
    "import pandas as pd\n",
    "response_df = pd.DataFrame(dict(response[0]))"
   ],
   "metadata": {
    "collapsed": false,
    "ExecuteTime": {
     "end_time": "2024-04-25T11:45:49.005020Z",
     "start_time": "2024-04-25T11:45:48.996793Z"
    }
   }
  },
  {
   "cell_type": "code",
   "execution_count": 29,
   "outputs": [
    {
     "data": {
      "text/plain": "0    b'{\"status\":\"ok\",\"totalResults\":35,\"articles\":...\n1    b'tle\":\"New US military aid package to Ukraine...\n2    b'on is preparing a\\xc2\\xa0new aid package for...\n3    b' the matter told CNN.\",\"url\":\"https://www.cn...\n4    b'https://media.cnn.com/api/v1/images/stellar/...\nName: 0, dtype: object"
     },
     "execution_count": 29,
     "metadata": {},
     "output_type": "execute_result"
    }
   ],
   "source": [
    "response_df[0].head()"
   ],
   "metadata": {
    "collapsed": false,
    "ExecuteTime": {
     "end_time": "2024-04-25T11:45:29.930401Z",
     "start_time": "2024-04-25T11:45:29.926574Z"
    }
   }
  },
  {
   "cell_type": "code",
   "execution_count": null,
   "outputs": [],
   "source": [],
   "metadata": {
    "collapsed": false
   }
  }
 ],
 "metadata": {
  "kernelspec": {
   "display_name": "Python 3",
   "language": "python",
   "name": "python3"
  },
  "language_info": {
   "codemirror_mode": {
    "name": "ipython",
    "version": 2
   },
   "file_extension": ".py",
   "mimetype": "text/x-python",
   "name": "python",
   "nbconvert_exporter": "python",
   "pygments_lexer": "ipython2",
   "version": "2.7.6"
  }
 },
 "nbformat": 4,
 "nbformat_minor": 0
}

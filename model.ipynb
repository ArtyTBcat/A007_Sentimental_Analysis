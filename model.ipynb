{
 "cells": [
  {
   "cell_type": "code",
   "execution_count": 75,
   "metadata": {
    "collapsed": true,
    "ExecuteTime": {
     "end_time": "2024-05-09T08:55:57.258235Z",
     "start_time": "2024-05-09T08:55:57.239019Z"
    }
   },
   "outputs": [],
   "source": [
    "import tensorflow as tf\n",
    "import yfinance as yf\n",
    "import pandas as pd\n",
    "from datetime import datetime\n",
    "from collections import Counter"
   ]
  },
  {
   "cell_type": "code",
   "execution_count": 76,
   "outputs": [
    {
     "data": {
      "text/plain": "          Symbol              Name Price (Intraday)     Change % Change  \\\n0        BTC-USD       Bitcoin USD        51,013.81   1,741.86   0.0374   \n1        ETH-USD      Ethereum USD         4,310.12     123.49   0.0295   \n2        BNB-USD   BinanceCoin USD           579.82      10.85   0.0191   \n3       USDT-USD        Tether USD         0.999563  -0.000893   -0.09%   \n4       SOL1-USD        Solana USD           194.93       5.62   0.0297   \n..           ...               ...              ...        ...      ...   \n390      GRN-USD    GreenPower USD         0.012171  -0.001566  -11.40%   \n391      KNC-USD  KyberNetwork USD           1.5066      0.152   0.1122   \n392  BONFIRE-USD       Bonfire USD       0.00000002          0   0.1971   \n393      BST-USD    BlockStamp USD         0.066326   0.002342   0.0366   \n394      VBK-USD     VeriBlock USD          0.00408  -0.001334  -24.64%   \n\n    Market Cap Volume in Currency (Since 0:00 UTC) Volume in Currency (24Hr)  \\\n0     963.866B                             34.642B                   34.642B   \n1     511.373B                             23.695B                   23.695B   \n2      96.714B                              2.376B                    2.376B   \n3      75.981B                             79.634B                   79.634B   \n4      59.631B                              2.804B                    2.804B   \n..         ...                                 ...                       ...   \n390          0                                  50                        50   \n391          0                             128,861                   128,861   \n392          0                             124,365                   124,365   \n393          0                                   0                         0   \n394          0                              16,154                    16,154   \n\n    Total Volume All Currencies (24Hr) Circulating Supply  \n0                              34.642B            18.894M  \n1                              23.695B           118.645M  \n2                               2.376B           166.801M  \n3                              79.634B            76.014B  \n4                               2.804B           305.911M  \n..                                 ...                ...  \n390                                 50                  0  \n391                            128,861                  0  \n392                            124,365                  0  \n393                                  0                  0  \n394                             16,154                  0  \n\n[395 rows x 10 columns]",
      "text/html": "<div>\n<style scoped>\n    .dataframe tbody tr th:only-of-type {\n        vertical-align: middle;\n    }\n\n    .dataframe tbody tr th {\n        vertical-align: top;\n    }\n\n    .dataframe thead th {\n        text-align: right;\n    }\n</style>\n<table border=\"1\" class=\"dataframe\">\n  <thead>\n    <tr style=\"text-align: right;\">\n      <th></th>\n      <th>Symbol</th>\n      <th>Name</th>\n      <th>Price (Intraday)</th>\n      <th>Change</th>\n      <th>% Change</th>\n      <th>Market Cap</th>\n      <th>Volume in Currency (Since 0:00 UTC)</th>\n      <th>Volume in Currency (24Hr)</th>\n      <th>Total Volume All Currencies (24Hr)</th>\n      <th>Circulating Supply</th>\n    </tr>\n  </thead>\n  <tbody>\n    <tr>\n      <th>0</th>\n      <td>BTC-USD</td>\n      <td>Bitcoin USD</td>\n      <td>51,013.81</td>\n      <td>1,741.86</td>\n      <td>0.0374</td>\n      <td>963.866B</td>\n      <td>34.642B</td>\n      <td>34.642B</td>\n      <td>34.642B</td>\n      <td>18.894M</td>\n    </tr>\n    <tr>\n      <th>1</th>\n      <td>ETH-USD</td>\n      <td>Ethereum USD</td>\n      <td>4,310.12</td>\n      <td>123.49</td>\n      <td>0.0295</td>\n      <td>511.373B</td>\n      <td>23.695B</td>\n      <td>23.695B</td>\n      <td>23.695B</td>\n      <td>118.645M</td>\n    </tr>\n    <tr>\n      <th>2</th>\n      <td>BNB-USD</td>\n      <td>BinanceCoin USD</td>\n      <td>579.82</td>\n      <td>10.85</td>\n      <td>0.0191</td>\n      <td>96.714B</td>\n      <td>2.376B</td>\n      <td>2.376B</td>\n      <td>2.376B</td>\n      <td>166.801M</td>\n    </tr>\n    <tr>\n      <th>3</th>\n      <td>USDT-USD</td>\n      <td>Tether USD</td>\n      <td>0.999563</td>\n      <td>-0.000893</td>\n      <td>-0.09%</td>\n      <td>75.981B</td>\n      <td>79.634B</td>\n      <td>79.634B</td>\n      <td>79.634B</td>\n      <td>76.014B</td>\n    </tr>\n    <tr>\n      <th>4</th>\n      <td>SOL1-USD</td>\n      <td>Solana USD</td>\n      <td>194.93</td>\n      <td>5.62</td>\n      <td>0.0297</td>\n      <td>59.631B</td>\n      <td>2.804B</td>\n      <td>2.804B</td>\n      <td>2.804B</td>\n      <td>305.911M</td>\n    </tr>\n    <tr>\n      <th>...</th>\n      <td>...</td>\n      <td>...</td>\n      <td>...</td>\n      <td>...</td>\n      <td>...</td>\n      <td>...</td>\n      <td>...</td>\n      <td>...</td>\n      <td>...</td>\n      <td>...</td>\n    </tr>\n    <tr>\n      <th>390</th>\n      <td>GRN-USD</td>\n      <td>GreenPower USD</td>\n      <td>0.012171</td>\n      <td>-0.001566</td>\n      <td>-11.40%</td>\n      <td>0</td>\n      <td>50</td>\n      <td>50</td>\n      <td>50</td>\n      <td>0</td>\n    </tr>\n    <tr>\n      <th>391</th>\n      <td>KNC-USD</td>\n      <td>KyberNetwork USD</td>\n      <td>1.5066</td>\n      <td>0.152</td>\n      <td>0.1122</td>\n      <td>0</td>\n      <td>128,861</td>\n      <td>128,861</td>\n      <td>128,861</td>\n      <td>0</td>\n    </tr>\n    <tr>\n      <th>392</th>\n      <td>BONFIRE-USD</td>\n      <td>Bonfire USD</td>\n      <td>0.00000002</td>\n      <td>0</td>\n      <td>0.1971</td>\n      <td>0</td>\n      <td>124,365</td>\n      <td>124,365</td>\n      <td>124,365</td>\n      <td>0</td>\n    </tr>\n    <tr>\n      <th>393</th>\n      <td>BST-USD</td>\n      <td>BlockStamp USD</td>\n      <td>0.066326</td>\n      <td>0.002342</td>\n      <td>0.0366</td>\n      <td>0</td>\n      <td>0</td>\n      <td>0</td>\n      <td>0</td>\n      <td>0</td>\n    </tr>\n    <tr>\n      <th>394</th>\n      <td>VBK-USD</td>\n      <td>VeriBlock USD</td>\n      <td>0.00408</td>\n      <td>-0.001334</td>\n      <td>-24.64%</td>\n      <td>0</td>\n      <td>16,154</td>\n      <td>16,154</td>\n      <td>16,154</td>\n      <td>0</td>\n    </tr>\n  </tbody>\n</table>\n<p>395 rows × 10 columns</p>\n</div>"
     },
     "execution_count": 76,
     "metadata": {},
     "output_type": "execute_result"
    }
   ],
   "source": [
    "crypto_dataset =pd.read_csv(\"data/archive/Cryptocurrency_Dataset_2021.csv\")\n",
    "crypto_dataset"
   ],
   "metadata": {
    "collapsed": false,
    "ExecuteTime": {
     "end_time": "2024-05-09T08:55:57.258545Z",
     "start_time": "2024-05-09T08:55:57.242408Z"
    }
   }
  },
  {
   "cell_type": "code",
   "execution_count": 77,
   "outputs": [
    {
     "data": {
      "text/plain": "                                            source  \\\n0   {'id': 'ars-technica', 'name': 'Ars Technica'}   \n1                {'id': None, 'name': 'ReadWrite'}   \n2                {'id': None, 'name': 'ReadWrite'}   \n3   {'id': 'ars-technica', 'name': 'Ars Technica'}   \n4           {'id': 'bbc-news', 'name': 'BBC News'}   \n..                                             ...   \n91            {'id': None, 'name': 'Quartz India'}   \n92            {'id': None, 'name': 'Quartz India'}   \n93            {'id': None, 'name': 'Quartz India'}   \n94            {'id': None, 'name': 'Quartz India'}   \n95              {'id': None, 'name': 'Biztoc.com'}   \n\n                              author  \\\n0                        Kyle Orland   \n1                        Arslan Butt   \n2                    Radek Zielinski   \n3                    Ashley Belanger   \n4   https://www.facebook.com/bbcnews   \n..                               ...   \n91              Vinamrata Chaturvedi   \n92                     Laura Bratton   \n93              Vinamrata Chaturvedi   \n94                        Quartz Bot   \n95                      watcher.guru   \n\n                                                title  \\\n0   No one needs this cryptocurrency-powered Steam...   \n1   Most Trending Cryptocurrency Today – Ethena, M...   \n2   Venezuela bets on Tether cryptocurrency to ski...   \n3   Crypto influencer guilty of $110M scheme that ...   \n4                Drug boss ordered to hand over £3.5m   \n..                                                ...   \n91  Bitcoin is rebounding after a rollercoaster ri...   \n92  Google sued scammers who put a bunch of fake i...   \n93  A crypto company is suing the SEC for overreac...   \n94  Bitcoin lifts crypto stocks, Meta sinks, Spoti...   \n95  Cryptocurrency: 3 Trending AI Coins To Buy For...   \n\n                                          description  \\\n0   Playtron's SuiPlay0X1 is a \"web3 gaming\" fever...   \n1   Today’s most trending cryptocurrency list on C...   \n2   As the United States reimposes oil sanctions o...   \n3   Fraudster charged with crypto market manipulat...   \n4   A former Trafford drug boss is told to give up...   \n..                                                ...   \n91  After falling by almost 10% over the weekend, ...   \n92  Google is suing two developers who put 87 fake...   \n93  Ethereum developer and the company behind cryp...   \n94  Plus, Bill Gates and Sam Altman invest in nucl...   \n95  As the cryptocurrency market experiences a res...   \n\n                                                  url  \\\n0   https://arstechnica.com/gaming/2024/04/no-one-...   \n1   https://readwrite.com/most-trending-cryptocurr...   \n2   https://readwrite.com/venezuela-bets-on-tether...   \n3   https://arstechnica.com/tech-policy/2024/04/no...   \n4   https://www.bbc.co.uk/news/uk-england-manchest...   \n..                                                ...   \n91    https://qz.com/bitcoin-hong-kong-etf-1851410344   \n92  https://qz.com/google-fake-apps-crypto-coinbas...   \n93  https://qz.com/consensys-sues-sec-over-ether-r...   \n94  https://qz.com/bitcoin-crypto-stocks-meta-face...   \n95              https://biztoc.com/x/076f44f7bfc571b9   \n\n                                           urlToImage           publishedAt  \\\n0   https://cdn.arstechnica.net/wp-content/uploads...  2024-04-11T19:53:57Z   \n1   https://readwrite.com/wp-content/uploads/2024/...  2024-04-06T03:05:48Z   \n2   https://readwrite.com/wp-content/uploads/2024/...  2024-04-23T09:41:02Z   \n3   https://cdn.arstechnica.net/wp-content/uploads...  2024-04-19T16:31:21Z   \n4   https://ichef.bbci.co.uk/news/1024/branded_new...  2024-04-12T15:29:45Z   \n..                                                ...                   ...   \n91  https://i.kinja-img.com/image/upload/c_fill,h_...  2024-04-15T15:06:00Z   \n92  https://i.kinja-img.com/image/upload/c_fill,h_...  2024-04-04T15:02:00Z   \n93  https://i.kinja-img.com/image/upload/c_fill,h_...  2024-04-26T17:04:00Z   \n94  https://i.kinja-img.com/image/upload/c_fill,h_...  2024-04-27T13:00:00Z   \n95     https://c.biztoc.com/p/076f44f7bfc571b9/s.webp  2024-04-05T16:40:06Z   \n\n                                              content  \\\n0   Enlarge/ Look, a generic render that looks vag...   \n1   Today’s most trending cryptocurrency list on C...   \n2   As the United States reimposes oil sanctions o...   \n3   8\\r\\nA jury has unanimously convicted Avi Eise...   \n4   A former global drug ring boss who lived a \"la...   \n..                                                ...   \n91  After falling by almost 10% over the weekend, ...   \n92  Google is suing two developers who put 87 fake...   \n93  Ethereum developer and the company behind cryp...   \n94  Bitcoin fell below $64,000 as tech stocks cont...   \n95  As the cryptocurrency market experiences a res...   \n\n                                             Currency  \\\n0                                                None   \n1   [[Bitcoin, 1], [Ethereum, 1], [Solana, 1], [Do...   \n2                                       [[Tether, 1]]   \n3                                         [[Divi, 1]]   \n4                                                None   \n..                                                ...   \n91         [[Bitcoin, 1], [Solana, 1], [Dogecoin, 1]]   \n92                                     [[Celsius, 1]]   \n93                      [[Bitcoin, 1], [Ethereum, 1]]   \n94                                     [[Bitcoin, 1]]   \n95                                               None   \n\n                                            paragraph  avg title sentimental  \\\n0   [Front page layout, Site theme, Kyle Orland-Ap...                      0   \n1   [Arslan Butt graduated from the University of ...                      0   \n2   [Radek Zielinski is an experienced technology ...                      0   \n3   [Front page layout, Site theme, Ashley Belange...                     -1   \n4   [A former global drug ring boss who lived a \"l...                      0   \n..                                                ...                    ...   \n91  [Fund next-gen business journalism with $10 a ...                      1   \n92  [Fund next-gen business journalism with $10 a ...                      0   \n93  [Fund next-gen business journalism with $10 a ...                      0   \n94  [2/10, Cryptocurrency-related stocks surged af...                      1   \n95  [Prince Harry wore four medals on his chest as...                      0   \n\n    avg sentimental sentimental  avg overall sentimental  \\\n0                      0.047619                 0.000000   \n1                      0.125000                 0.312500   \n2                      0.115385                 0.000000   \n3                     -0.055556                -0.125000   \n4                     -0.073171                -0.142857   \n..                          ...                      ...   \n91                     0.133333                -0.500000   \n92                    -0.083333                -0.200000   \n93                     0.000000                 0.000000   \n94                     0.086957                -0.333333   \n95                     0.111111                 0.000000   \n\n                                 headline sentimental  \\\n0   [[{'label': 'neutral', 'score': 0.999871253967...   \n1   [[{'label': 'neutral', 'score': 0.999875187873...   \n2   [[{'label': 'neutral', 'score': 0.995628714561...   \n3   [[{'label': 'negative', 'score': 0.90473520755...   \n4   [[{'label': 'neutral', 'score': 0.997978866100...   \n..                                                ...   \n91  [[{'label': 'positive', 'score': 0.99962854385...   \n92  [[{'label': 'neutral', 'score': 0.996107280254...   \n93  [[{'label': 'neutral', 'score': 0.889523148536...   \n94  [[{'label': 'positive', 'score': 0.99896883964...   \n95  [[{'label': 'neutral', 'score': 0.994085311889...   \n\n                                          sentimental  \\\n0   [[{'label': 'neutral', 'score': 0.999885678291...   \n1   [[{'label': 'neutral', 'score': 0.999868512153...   \n2   [[{'label': 'neutral', 'score': 0.999857902526...   \n3   [[{'label': 'neutral', 'score': 0.999885678291...   \n4   [[{'label': 'negative', 'score': 0.97389322519...   \n..                                                ...   \n91  [[{'label': 'neutral', 'score': 0.999870538711...   \n92  [[{'label': 'neutral', 'score': 0.999870538711...   \n93  [[{'label': 'neutral', 'score': 0.999870538711...   \n94  [[{'label': 'neutral', 'score': 0.999860644340...   \n95  [[{'label': 'neutral', 'score': 0.999828815460...   \n\n                            overall sentimental score  \n0   [[{'label': 'neutral', 'score': 0.941238164901...  \n1   [[{'label': 'positive', 'score': 0.99944609403...  \n2   [[{'label': 'neutral', 'score': 0.591421365737...  \n3   [[{'label': 'positive', 'score': 0.97910600900...  \n4   [[{'label': 'negative', 'score': 0.78786081075...  \n..                                                ...  \n91  [[{'label': 'negative', 'score': 0.86618179082...  \n92  [[{'label': 'neutral', 'score': 0.983920812606...  \n93  [[{'label': 'neutral', 'score': 0.922091543674...  \n94  [[{'label': 'positive', 'score': 0.99968826770...  \n95  [[{'label': 'neutral', 'score': 0.997773110866...  \n\n[96 rows x 16 columns]",
      "text/html": "<div>\n<style scoped>\n    .dataframe tbody tr th:only-of-type {\n        vertical-align: middle;\n    }\n\n    .dataframe tbody tr th {\n        vertical-align: top;\n    }\n\n    .dataframe thead th {\n        text-align: right;\n    }\n</style>\n<table border=\"1\" class=\"dataframe\">\n  <thead>\n    <tr style=\"text-align: right;\">\n      <th></th>\n      <th>source</th>\n      <th>author</th>\n      <th>title</th>\n      <th>description</th>\n      <th>url</th>\n      <th>urlToImage</th>\n      <th>publishedAt</th>\n      <th>content</th>\n      <th>Currency</th>\n      <th>paragraph</th>\n      <th>avg title sentimental</th>\n      <th>avg sentimental sentimental</th>\n      <th>avg overall sentimental</th>\n      <th>headline sentimental</th>\n      <th>sentimental</th>\n      <th>overall sentimental score</th>\n    </tr>\n  </thead>\n  <tbody>\n    <tr>\n      <th>0</th>\n      <td>{'id': 'ars-technica', 'name': 'Ars Technica'}</td>\n      <td>Kyle Orland</td>\n      <td>No one needs this cryptocurrency-powered Steam...</td>\n      <td>Playtron's SuiPlay0X1 is a \"web3 gaming\" fever...</td>\n      <td>https://arstechnica.com/gaming/2024/04/no-one-...</td>\n      <td>https://cdn.arstechnica.net/wp-content/uploads...</td>\n      <td>2024-04-11T19:53:57Z</td>\n      <td>Enlarge/ Look, a generic render that looks vag...</td>\n      <td>None</td>\n      <td>[Front page layout, Site theme, Kyle Orland-Ap...</td>\n      <td>0</td>\n      <td>0.047619</td>\n      <td>0.000000</td>\n      <td>[[{'label': 'neutral', 'score': 0.999871253967...</td>\n      <td>[[{'label': 'neutral', 'score': 0.999885678291...</td>\n      <td>[[{'label': 'neutral', 'score': 0.941238164901...</td>\n    </tr>\n    <tr>\n      <th>1</th>\n      <td>{'id': None, 'name': 'ReadWrite'}</td>\n      <td>Arslan Butt</td>\n      <td>Most Trending Cryptocurrency Today – Ethena, M...</td>\n      <td>Today’s most trending cryptocurrency list on C...</td>\n      <td>https://readwrite.com/most-trending-cryptocurr...</td>\n      <td>https://readwrite.com/wp-content/uploads/2024/...</td>\n      <td>2024-04-06T03:05:48Z</td>\n      <td>Today’s most trending cryptocurrency list on C...</td>\n      <td>[[Bitcoin, 1], [Ethereum, 1], [Solana, 1], [Do...</td>\n      <td>[Arslan Butt graduated from the University of ...</td>\n      <td>0</td>\n      <td>0.125000</td>\n      <td>0.312500</td>\n      <td>[[{'label': 'neutral', 'score': 0.999875187873...</td>\n      <td>[[{'label': 'neutral', 'score': 0.999868512153...</td>\n      <td>[[{'label': 'positive', 'score': 0.99944609403...</td>\n    </tr>\n    <tr>\n      <th>2</th>\n      <td>{'id': None, 'name': 'ReadWrite'}</td>\n      <td>Radek Zielinski</td>\n      <td>Venezuela bets on Tether cryptocurrency to ski...</td>\n      <td>As the United States reimposes oil sanctions o...</td>\n      <td>https://readwrite.com/venezuela-bets-on-tether...</td>\n      <td>https://readwrite.com/wp-content/uploads/2024/...</td>\n      <td>2024-04-23T09:41:02Z</td>\n      <td>As the United States reimposes oil sanctions o...</td>\n      <td>[[Tether, 1]]</td>\n      <td>[Radek Zielinski is an experienced technology ...</td>\n      <td>0</td>\n      <td>0.115385</td>\n      <td>0.000000</td>\n      <td>[[{'label': 'neutral', 'score': 0.995628714561...</td>\n      <td>[[{'label': 'neutral', 'score': 0.999857902526...</td>\n      <td>[[{'label': 'neutral', 'score': 0.591421365737...</td>\n    </tr>\n    <tr>\n      <th>3</th>\n      <td>{'id': 'ars-technica', 'name': 'Ars Technica'}</td>\n      <td>Ashley Belanger</td>\n      <td>Crypto influencer guilty of $110M scheme that ...</td>\n      <td>Fraudster charged with crypto market manipulat...</td>\n      <td>https://arstechnica.com/tech-policy/2024/04/no...</td>\n      <td>https://cdn.arstechnica.net/wp-content/uploads...</td>\n      <td>2024-04-19T16:31:21Z</td>\n      <td>8\\r\\nA jury has unanimously convicted Avi Eise...</td>\n      <td>[[Divi, 1]]</td>\n      <td>[Front page layout, Site theme, Ashley Belange...</td>\n      <td>-1</td>\n      <td>-0.055556</td>\n      <td>-0.125000</td>\n      <td>[[{'label': 'negative', 'score': 0.90473520755...</td>\n      <td>[[{'label': 'neutral', 'score': 0.999885678291...</td>\n      <td>[[{'label': 'positive', 'score': 0.97910600900...</td>\n    </tr>\n    <tr>\n      <th>4</th>\n      <td>{'id': 'bbc-news', 'name': 'BBC News'}</td>\n      <td>https://www.facebook.com/bbcnews</td>\n      <td>Drug boss ordered to hand over £3.5m</td>\n      <td>A former Trafford drug boss is told to give up...</td>\n      <td>https://www.bbc.co.uk/news/uk-england-manchest...</td>\n      <td>https://ichef.bbci.co.uk/news/1024/branded_new...</td>\n      <td>2024-04-12T15:29:45Z</td>\n      <td>A former global drug ring boss who lived a \"la...</td>\n      <td>None</td>\n      <td>[A former global drug ring boss who lived a \"l...</td>\n      <td>0</td>\n      <td>-0.073171</td>\n      <td>-0.142857</td>\n      <td>[[{'label': 'neutral', 'score': 0.997978866100...</td>\n      <td>[[{'label': 'negative', 'score': 0.97389322519...</td>\n      <td>[[{'label': 'negative', 'score': 0.78786081075...</td>\n    </tr>\n    <tr>\n      <th>...</th>\n      <td>...</td>\n      <td>...</td>\n      <td>...</td>\n      <td>...</td>\n      <td>...</td>\n      <td>...</td>\n      <td>...</td>\n      <td>...</td>\n      <td>...</td>\n      <td>...</td>\n      <td>...</td>\n      <td>...</td>\n      <td>...</td>\n      <td>...</td>\n      <td>...</td>\n      <td>...</td>\n    </tr>\n    <tr>\n      <th>91</th>\n      <td>{'id': None, 'name': 'Quartz India'}</td>\n      <td>Vinamrata Chaturvedi</td>\n      <td>Bitcoin is rebounding after a rollercoaster ri...</td>\n      <td>After falling by almost 10% over the weekend, ...</td>\n      <td>https://qz.com/bitcoin-hong-kong-etf-1851410344</td>\n      <td>https://i.kinja-img.com/image/upload/c_fill,h_...</td>\n      <td>2024-04-15T15:06:00Z</td>\n      <td>After falling by almost 10% over the weekend, ...</td>\n      <td>[[Bitcoin, 1], [Solana, 1], [Dogecoin, 1]]</td>\n      <td>[Fund next-gen business journalism with $10 a ...</td>\n      <td>1</td>\n      <td>0.133333</td>\n      <td>-0.500000</td>\n      <td>[[{'label': 'positive', 'score': 0.99962854385...</td>\n      <td>[[{'label': 'neutral', 'score': 0.999870538711...</td>\n      <td>[[{'label': 'negative', 'score': 0.86618179082...</td>\n    </tr>\n    <tr>\n      <th>92</th>\n      <td>{'id': None, 'name': 'Quartz India'}</td>\n      <td>Laura Bratton</td>\n      <td>Google sued scammers who put a bunch of fake i...</td>\n      <td>Google is suing two developers who put 87 fake...</td>\n      <td>https://qz.com/google-fake-apps-crypto-coinbas...</td>\n      <td>https://i.kinja-img.com/image/upload/c_fill,h_...</td>\n      <td>2024-04-04T15:02:00Z</td>\n      <td>Google is suing two developers who put 87 fake...</td>\n      <td>[[Celsius, 1]]</td>\n      <td>[Fund next-gen business journalism with $10 a ...</td>\n      <td>0</td>\n      <td>-0.083333</td>\n      <td>-0.200000</td>\n      <td>[[{'label': 'neutral', 'score': 0.996107280254...</td>\n      <td>[[{'label': 'neutral', 'score': 0.999870538711...</td>\n      <td>[[{'label': 'neutral', 'score': 0.983920812606...</td>\n    </tr>\n    <tr>\n      <th>93</th>\n      <td>{'id': None, 'name': 'Quartz India'}</td>\n      <td>Vinamrata Chaturvedi</td>\n      <td>A crypto company is suing the SEC for overreac...</td>\n      <td>Ethereum developer and the company behind cryp...</td>\n      <td>https://qz.com/consensys-sues-sec-over-ether-r...</td>\n      <td>https://i.kinja-img.com/image/upload/c_fill,h_...</td>\n      <td>2024-04-26T17:04:00Z</td>\n      <td>Ethereum developer and the company behind cryp...</td>\n      <td>[[Bitcoin, 1], [Ethereum, 1]]</td>\n      <td>[Fund next-gen business journalism with $10 a ...</td>\n      <td>0</td>\n      <td>0.000000</td>\n      <td>0.000000</td>\n      <td>[[{'label': 'neutral', 'score': 0.889523148536...</td>\n      <td>[[{'label': 'neutral', 'score': 0.999870538711...</td>\n      <td>[[{'label': 'neutral', 'score': 0.922091543674...</td>\n    </tr>\n    <tr>\n      <th>94</th>\n      <td>{'id': None, 'name': 'Quartz India'}</td>\n      <td>Quartz Bot</td>\n      <td>Bitcoin lifts crypto stocks, Meta sinks, Spoti...</td>\n      <td>Plus, Bill Gates and Sam Altman invest in nucl...</td>\n      <td>https://qz.com/bitcoin-crypto-stocks-meta-face...</td>\n      <td>https://i.kinja-img.com/image/upload/c_fill,h_...</td>\n      <td>2024-04-27T13:00:00Z</td>\n      <td>Bitcoin fell below $64,000 as tech stocks cont...</td>\n      <td>[[Bitcoin, 1]]</td>\n      <td>[2/10, Cryptocurrency-related stocks surged af...</td>\n      <td>1</td>\n      <td>0.086957</td>\n      <td>-0.333333</td>\n      <td>[[{'label': 'positive', 'score': 0.99896883964...</td>\n      <td>[[{'label': 'neutral', 'score': 0.999860644340...</td>\n      <td>[[{'label': 'positive', 'score': 0.99968826770...</td>\n    </tr>\n    <tr>\n      <th>95</th>\n      <td>{'id': None, 'name': 'Biztoc.com'}</td>\n      <td>watcher.guru</td>\n      <td>Cryptocurrency: 3 Trending AI Coins To Buy For...</td>\n      <td>As the cryptocurrency market experiences a res...</td>\n      <td>https://biztoc.com/x/076f44f7bfc571b9</td>\n      <td>https://c.biztoc.com/p/076f44f7bfc571b9/s.webp</td>\n      <td>2024-04-05T16:40:06Z</td>\n      <td>As the cryptocurrency market experiences a res...</td>\n      <td>None</td>\n      <td>[Prince Harry wore four medals on his chest as...</td>\n      <td>0</td>\n      <td>0.111111</td>\n      <td>0.000000</td>\n      <td>[[{'label': 'neutral', 'score': 0.994085311889...</td>\n      <td>[[{'label': 'neutral', 'score': 0.999828815460...</td>\n      <td>[[{'label': 'neutral', 'score': 0.997773110866...</td>\n    </tr>\n  </tbody>\n</table>\n<p>96 rows × 16 columns</p>\n</div>"
     },
     "execution_count": 77,
     "metadata": {},
     "output_type": "execute_result"
    }
   ],
   "source": [
    "news = pd.read_json(\"data/extracted_text_data.json\")\n",
    "news"
   ],
   "metadata": {
    "collapsed": false,
    "ExecuteTime": {
     "end_time": "2024-05-09T08:55:57.320279Z",
     "start_time": "2024-05-09T08:55:57.258374Z"
    }
   }
  },
  {
   "cell_type": "code",
   "execution_count": 83,
   "outputs": [
    {
     "name": "stderr",
     "output_type": "stream",
     "text": [
      "[*********************100%%**********************]  1 of 1 completed"
     ]
    },
    {
     "name": "stdout",
     "output_type": "stream",
     "text": [
      "None\n",
      "                                   Open          High           Low  \\\n",
      "Datetime                                                              \n",
      "2024-04-06 03:00:00+00:00  67610.304688  67901.257812  67610.304688   \n",
      "2024-04-06 04:00:00+00:00  67825.687500  67831.867188  67660.664062   \n",
      "2024-04-06 05:00:00+00:00  67769.882812  68221.921875  67765.382812   \n",
      "2024-04-06 06:00:00+00:00  68055.421875  68174.351562  67931.289062   \n",
      "2024-04-06 07:00:00+00:00  68137.601562  68171.187500  67977.414062   \n",
      "...                                 ...           ...           ...   \n",
      "2024-05-09 04:00:00+00:00  61658.406250  61720.199219  61425.921875   \n",
      "2024-05-09 05:00:00+00:00  61501.035156  61648.394531  61442.195312   \n",
      "2024-05-09 06:00:00+00:00  61590.761719  61741.625000  61517.156250   \n",
      "2024-05-09 07:00:00+00:00  61588.929688  61608.203125  61166.105469   \n",
      "2024-05-09 08:00:00+00:00  61229.070312  61386.476562  61158.015625   \n",
      "\n",
      "                                  Close     Adj Close    Volume  \n",
      "Datetime                                                         \n",
      "2024-04-06 03:00:00+00:00  67824.609375  67824.609375         0  \n",
      "2024-04-06 04:00:00+00:00  67769.640625  67769.640625         0  \n",
      "2024-04-06 05:00:00+00:00  68023.804688  68023.804688         0  \n",
      "2024-04-06 06:00:00+00:00  68132.593750  68132.593750         0  \n",
      "2024-04-06 07:00:00+00:00  68039.617188  68039.617188         0  \n",
      "...                                 ...           ...       ...  \n",
      "2024-05-09 04:00:00+00:00  61497.863281  61497.863281         0  \n",
      "2024-05-09 05:00:00+00:00  61588.796875  61588.796875         0  \n",
      "2024-05-09 06:00:00+00:00  61619.351562  61619.351562  14903296  \n",
      "2024-05-09 07:00:00+00:00  61220.175781  61220.175781  82606080  \n",
      "2024-05-09 08:00:00+00:00  61279.207031  61279.207031  50216960  \n",
      "\n",
      "[776 rows x 6 columns]\n"
     ]
    },
    {
     "name": "stderr",
     "output_type": "stream",
     "text": [
      "\n",
      "[*********************100%%**********************]  1 of 1 completed\n",
      "[*********************100%%**********************]  1 of 1 completed\n"
     ]
    },
    {
     "name": "stdout",
     "output_type": "stream",
     "text": [
      "                               Open      High       Low     Close  Adj Close  \\\n",
      "Datetime                                                                       \n",
      "2024-04-23 09:00:00+00:00  1.000334  1.000756  1.000289  1.000462   1.000462   \n",
      "2024-04-23 10:00:00+00:00  1.000436  1.000858  1.000288  1.000568   1.000568   \n",
      "2024-04-23 11:00:00+00:00  1.000620  1.000967  1.000296  1.000449   1.000449   \n",
      "2024-04-23 12:00:00+00:00  1.000720  1.001078  1.000224  1.000298   1.000298   \n",
      "2024-04-23 13:00:00+00:00  1.000334  1.000800  1.000122  1.000595   1.000595   \n",
      "...                             ...       ...       ...       ...        ...   \n",
      "2024-05-09 04:00:00+00:00  0.999541  0.999798  0.999405  0.999493   0.999493   \n",
      "2024-05-09 05:00:00+00:00  0.999636  0.999747  0.999320  0.999605   0.999605   \n",
      "2024-05-09 06:00:00+00:00  1.000139  1.000139  0.999343  0.999517   0.999517   \n",
      "2024-05-09 07:00:00+00:00  0.999544  1.000220  0.999305  0.999721   0.999721   \n",
      "2024-05-09 08:00:00+00:00  0.999520  0.999811  0.999320  0.999486   0.999486   \n",
      "\n",
      "                              Volume  \n",
      "Datetime                              \n",
      "2024-04-23 09:00:00+00:00          0  \n",
      "2024-04-23 10:00:00+00:00  472223744  \n",
      "2024-04-23 11:00:00+00:00  154218496  \n",
      "2024-04-23 12:00:00+00:00   79429632  \n",
      "2024-04-23 13:00:00+00:00  336244736  \n",
      "...                              ...  \n",
      "2024-05-09 04:00:00+00:00          0  \n",
      "2024-05-09 05:00:00+00:00   86257664  \n",
      "2024-05-09 06:00:00+00:00   16715776  \n",
      "2024-05-09 07:00:00+00:00  162672640  \n",
      "2024-05-09 08:00:00+00:00   55631872  \n",
      "\n",
      "[362 rows x 6 columns]\n",
      "                               Open      High       Low     Close  Adj Close  \\\n",
      "Datetime                                                                       \n",
      "2024-04-19 16:00:00+00:00  0.002180  0.002180  0.002171  0.002174   0.002174   \n",
      "2024-04-19 17:00:00+00:00  0.002174  0.002179  0.002160  0.002170   0.002170   \n",
      "2024-04-19 18:00:00+00:00  0.002171  0.002172  0.002162  0.002168   0.002168   \n",
      "2024-04-19 19:00:00+00:00  0.002169  0.002179  0.002163  0.002170   0.002170   \n",
      "2024-04-19 20:00:00+00:00  0.002170  0.002179  0.002168  0.002173   0.002173   \n",
      "...                             ...       ...       ...       ...        ...   \n",
      "2024-05-09 04:00:00+00:00  0.001885  0.001889  0.001875  0.001886   0.001886   \n",
      "2024-05-09 05:00:00+00:00  0.001885  0.001885  0.001871  0.001877   0.001877   \n",
      "2024-05-09 06:00:00+00:00  0.001877  0.001893  0.001874  0.001887   0.001887   \n",
      "2024-05-09 07:00:00+00:00  0.001886  0.001886  0.001872  0.001874   0.001874   \n",
      "2024-05-09 08:00:00+00:00  0.001874  0.001884  0.001872  0.001882   0.001882   \n",
      "\n",
      "                           Volume  \n",
      "Datetime                           \n",
      "2024-04-19 16:00:00+00:00       0  \n",
      "2024-04-19 17:00:00+00:00    5826  \n",
      "2024-04-19 18:00:00+00:00    9980  \n",
      "2024-04-19 19:00:00+00:00    7550  \n",
      "2024-04-19 20:00:00+00:00    7458  \n",
      "...                           ...  \n",
      "2024-05-09 04:00:00+00:00     597  \n",
      "2024-05-09 05:00:00+00:00       0  \n",
      "2024-05-09 06:00:00+00:00    5418  \n",
      "2024-05-09 07:00:00+00:00    6391  \n",
      "2024-05-09 08:00:00+00:00    6348  \n",
      "\n",
      "[451 rows x 6 columns]\n",
      "None\n"
     ]
    },
    {
     "name": "stderr",
     "output_type": "stream",
     "text": [
      "[*********************100%%**********************]  1 of 1 completed\n",
      "[*********************100%%**********************]  1 of 1 completed\n",
      "[*********************100%%**********************]  1 of 1 completed\n"
     ]
    },
    {
     "name": "stdout",
     "output_type": "stream",
     "text": [
      "                                  Open         High          Low        Close  \\\n",
      "Datetime                                                                        \n",
      "2024-04-11 15:00:00+00:00  3496.677002  3507.557129  3490.265625  3505.049316   \n",
      "2024-04-11 16:00:00+00:00  3507.915527  3517.505615  3478.227295  3505.045654   \n",
      "2024-04-11 17:00:00+00:00  3503.145508  3520.670166  3500.072510  3512.079834   \n",
      "2024-04-11 18:00:00+00:00  3511.770264  3515.380127  3496.937744  3505.085938   \n",
      "2024-04-11 19:00:00+00:00  3505.032715  3517.743896  3498.802246  3511.790039   \n",
      "...                                ...          ...          ...          ...   \n",
      "2024-05-09 04:00:00+00:00  2996.939941  3002.713379  2991.975830  2992.937256   \n",
      "2024-05-09 05:00:00+00:00  2992.713135  3009.671143  2992.388428  3004.985352   \n",
      "2024-05-09 06:00:00+00:00  3004.726318  3010.389160  2997.124756  3001.667236   \n",
      "2024-05-09 07:00:00+00:00  2999.796387  2999.946289  2976.482178  2981.997070   \n",
      "2024-05-09 08:00:00+00:00  2981.811035  2988.993652  2975.023438  2981.927002   \n",
      "\n",
      "                             Adj Close     Volume  \n",
      "Datetime                                           \n",
      "2024-04-11 15:00:00+00:00  3505.049316          0  \n",
      "2024-04-11 16:00:00+00:00  3505.045654  131568640  \n",
      "2024-04-11 17:00:00+00:00  3512.079834          0  \n",
      "2024-04-11 18:00:00+00:00  3505.085938          0  \n",
      "2024-04-11 19:00:00+00:00  3511.790039          0  \n",
      "...                                ...        ...  \n",
      "2024-05-09 04:00:00+00:00  2992.937256          0  \n",
      "2024-05-09 05:00:00+00:00  3004.985352   88265728  \n",
      "2024-05-09 06:00:00+00:00  3001.667236    1257472  \n",
      "2024-05-09 07:00:00+00:00  2981.997070  119180288  \n",
      "2024-05-09 08:00:00+00:00  2981.927002   14729216  \n",
      "\n",
      "[644 rows x 6 columns]\n",
      "                                   Open          High           Low  \\\n",
      "Datetime                                                              \n",
      "2024-04-23 03:00:00+00:00  66662.804688  66800.007812  66518.218750   \n",
      "2024-04-23 04:00:00+00:00  66491.937500  66611.375000  66258.726562   \n",
      "2024-04-23 05:00:00+00:00  66282.539062  66606.976562  66251.828125   \n",
      "2024-04-23 06:00:00+00:00  66538.710938  66656.695312  66371.664062   \n",
      "2024-04-23 07:00:00+00:00  66409.101562  66464.695312  66133.031250   \n",
      "...                                 ...           ...           ...   \n",
      "2024-05-09 04:00:00+00:00  61658.406250  61720.199219  61425.921875   \n",
      "2024-05-09 05:00:00+00:00  61501.035156  61648.394531  61442.195312   \n",
      "2024-05-09 06:00:00+00:00  61590.761719  61741.625000  61517.156250   \n",
      "2024-05-09 07:00:00+00:00  61588.929688  61608.203125  61166.105469   \n",
      "2024-05-09 08:00:00+00:00  61229.070312  61386.476562  61158.015625   \n",
      "\n",
      "                                  Close     Adj Close    Volume  \n",
      "Datetime                                                         \n",
      "2024-04-23 03:00:00+00:00  66518.218750  66518.218750         0  \n",
      "2024-04-23 04:00:00+00:00  66274.968750  66274.968750         0  \n",
      "2024-04-23 05:00:00+00:00  66540.937500  66540.937500         0  \n",
      "2024-04-23 06:00:00+00:00  66371.664062  66371.664062         0  \n",
      "2024-04-23 07:00:00+00:00  66137.625000  66137.625000         0  \n",
      "...                                 ...           ...       ...  \n",
      "2024-05-09 04:00:00+00:00  61497.863281  61497.863281         0  \n",
      "2024-05-09 05:00:00+00:00  61588.796875  61588.796875         0  \n",
      "2024-05-09 06:00:00+00:00  61619.351562  61619.351562  14903296  \n",
      "2024-05-09 07:00:00+00:00  61220.175781  61220.175781  82606080  \n",
      "2024-05-09 08:00:00+00:00  61279.207031  61279.207031  50216960  \n",
      "\n",
      "[368 rows x 6 columns]\n",
      "                                   Open          High           Low  \\\n",
      "Datetime                                                              \n",
      "2024-04-03 14:00:00+00:00  65821.875000  66850.070312  65821.875000   \n",
      "2024-04-03 15:00:00+00:00  66655.273438  66655.273438  65819.593750   \n",
      "2024-04-03 16:00:00+00:00  65870.375000  66561.664062  65870.375000   \n",
      "2024-04-03 17:00:00+00:00  66215.960938  66356.539062  65907.070312   \n",
      "2024-04-03 18:00:00+00:00  65986.656250  66100.742188  65571.328125   \n",
      "...                                 ...           ...           ...   \n",
      "2024-05-09 04:00:00+00:00  61658.406250  61720.199219  61425.921875   \n",
      "2024-05-09 05:00:00+00:00  61501.035156  61648.394531  61442.195312   \n",
      "2024-05-09 06:00:00+00:00  61590.761719  61741.625000  61517.156250   \n",
      "2024-05-09 07:00:00+00:00  61588.929688  61608.203125  61166.105469   \n",
      "2024-05-09 08:00:00+00:00  61229.070312  61386.476562  61158.015625   \n",
      "\n",
      "                                  Close     Adj Close    Volume  \n",
      "Datetime                                                         \n",
      "2024-04-03 14:00:00+00:00  66595.234375  66595.234375         0  \n",
      "2024-04-03 15:00:00+00:00  65874.453125  65874.453125         0  \n",
      "2024-04-03 16:00:00+00:00  66289.187500  66289.187500         0  \n",
      "2024-04-03 17:00:00+00:00  65993.375000  65993.375000         0  \n",
      "2024-04-03 18:00:00+00:00  65992.179688  65992.179688         0  \n",
      "...                                 ...           ...       ...  \n",
      "2024-05-09 04:00:00+00:00  61497.863281  61497.863281         0  \n",
      "2024-05-09 05:00:00+00:00  61588.796875  61588.796875         0  \n",
      "2024-05-09 06:00:00+00:00  61619.351562  61619.351562  14903296  \n",
      "2024-05-09 07:00:00+00:00  61220.175781  61220.175781  82606080  \n",
      "2024-05-09 08:00:00+00:00  61279.207031  61279.207031  50216960  \n",
      "\n",
      "[837 rows x 6 columns]\n"
     ]
    },
    {
     "name": "stderr",
     "output_type": "stream",
     "text": [
      "[*********************100%%**********************]  1 of 1 completed\n",
      "[*********************100%%**********************]  1 of 1 completed\n"
     ]
    },
    {
     "name": "stdout",
     "output_type": "stream",
     "text": [
      "                                   Open          High           Low  \\\n",
      "Datetime                                                              \n",
      "2024-04-19 16:00:00+00:00  64471.351562  64548.503906  63594.199219   \n",
      "2024-04-19 17:00:00+00:00  64021.203125  64764.914062  64011.750000   \n",
      "2024-04-19 18:00:00+00:00  64687.234375  64687.234375  64193.632812   \n",
      "2024-04-19 19:00:00+00:00  64207.121094  64379.816406  64112.640625   \n",
      "2024-04-19 20:00:00+00:00  64334.804688  64334.804688  63727.289062   \n",
      "...                                 ...           ...           ...   \n",
      "2024-05-09 04:00:00+00:00  61658.406250  61720.199219  61425.921875   \n",
      "2024-05-09 05:00:00+00:00  61501.035156  61648.394531  61442.195312   \n",
      "2024-05-09 06:00:00+00:00  61590.761719  61741.625000  61517.156250   \n",
      "2024-05-09 07:00:00+00:00  61588.929688  61608.203125  61166.105469   \n",
      "2024-05-09 08:00:00+00:00  61229.070312  61386.476562  61158.015625   \n",
      "\n",
      "                                  Close     Adj Close     Volume  \n",
      "Datetime                                                          \n",
      "2024-04-19 16:00:00+00:00  64014.445312  64014.445312          0  \n",
      "2024-04-19 17:00:00+00:00  64678.671875  64678.671875  274472960  \n",
      "2024-04-19 18:00:00+00:00  64266.941406  64266.941406          0  \n",
      "2024-04-19 19:00:00+00:00  64359.902344  64359.902344          0  \n",
      "2024-04-19 20:00:00+00:00  64006.335938  64006.335938          0  \n",
      "...                                 ...           ...        ...  \n",
      "2024-05-09 04:00:00+00:00  61497.863281  61497.863281          0  \n",
      "2024-05-09 05:00:00+00:00  61588.796875  61588.796875          0  \n",
      "2024-05-09 06:00:00+00:00  61619.351562  61619.351562   14903296  \n",
      "2024-05-09 07:00:00+00:00  61220.175781  61220.175781   82606080  \n",
      "2024-05-09 08:00:00+00:00  61279.207031  61279.207031   50216960  \n",
      "\n",
      "[451 rows x 6 columns]\n",
      "                                   Open          High           Low  \\\n",
      "Datetime                                                              \n",
      "2024-04-03 14:00:00+00:00  65821.875000  66850.070312  65821.875000   \n",
      "2024-04-03 15:00:00+00:00  66655.273438  66655.273438  65819.593750   \n",
      "2024-04-03 16:00:00+00:00  65870.375000  66561.664062  65870.375000   \n",
      "2024-04-03 17:00:00+00:00  66215.960938  66356.539062  65907.070312   \n",
      "2024-04-03 18:00:00+00:00  65986.656250  66100.742188  65571.328125   \n",
      "...                                 ...           ...           ...   \n",
      "2024-05-09 04:00:00+00:00  61658.406250  61720.199219  61425.921875   \n",
      "2024-05-09 05:00:00+00:00  61501.035156  61648.394531  61442.195312   \n",
      "2024-05-09 06:00:00+00:00  61590.761719  61741.625000  61517.156250   \n",
      "2024-05-09 07:00:00+00:00  61588.929688  61608.203125  61166.105469   \n",
      "2024-05-09 08:00:00+00:00  61229.070312  61386.476562  61158.015625   \n",
      "\n",
      "                                  Close     Adj Close    Volume  \n",
      "Datetime                                                         \n",
      "2024-04-03 14:00:00+00:00  66595.234375  66595.234375         0  \n",
      "2024-04-03 15:00:00+00:00  65874.453125  65874.453125         0  \n",
      "2024-04-03 16:00:00+00:00  66289.187500  66289.187500         0  \n",
      "2024-04-03 17:00:00+00:00  65993.375000  65993.375000         0  \n",
      "2024-04-03 18:00:00+00:00  65992.179688  65992.179688         0  \n",
      "...                                 ...           ...       ...  \n",
      "2024-05-09 04:00:00+00:00  61497.863281  61497.863281         0  \n",
      "2024-05-09 05:00:00+00:00  61588.796875  61588.796875         0  \n",
      "2024-05-09 06:00:00+00:00  61619.351562  61619.351562  14903296  \n",
      "2024-05-09 07:00:00+00:00  61220.175781  61220.175781  82606080  \n",
      "2024-05-09 08:00:00+00:00  61279.207031  61279.207031  50216960  \n",
      "\n",
      "[837 rows x 6 columns]\n"
     ]
    },
    {
     "name": "stderr",
     "output_type": "stream",
     "text": [
      "[*********************100%%**********************]  1 of 1 completed\n",
      "[*********************100%%**********************]  1 of 1 completed\n"
     ]
    },
    {
     "name": "stdout",
     "output_type": "stream",
     "text": [
      "                                   Open          High           Low  \\\n",
      "Datetime                                                              \n",
      "2024-04-16 13:00:00+00:00  63055.109375  63322.800781  62222.355469   \n",
      "2024-04-16 14:00:00+00:00  62729.386719  63099.144531  62100.726562   \n",
      "2024-04-16 15:00:00+00:00  62129.957031  62386.925781  61822.867188   \n",
      "2024-04-16 16:00:00+00:00  61834.855469  62502.722656  61740.910156   \n",
      "2024-04-16 17:00:00+00:00  62715.902344  63284.203125  62348.105469   \n",
      "...                                 ...           ...           ...   \n",
      "2024-05-09 04:00:00+00:00  61658.406250  61720.199219  61425.921875   \n",
      "2024-05-09 05:00:00+00:00  61501.035156  61648.394531  61442.195312   \n",
      "2024-05-09 06:00:00+00:00  61590.761719  61741.625000  61517.156250   \n",
      "2024-05-09 07:00:00+00:00  61588.929688  61608.203125  61166.105469   \n",
      "2024-05-09 08:00:00+00:00  61229.070312  61386.476562  61158.015625   \n",
      "\n",
      "                                  Close     Adj Close    Volume  \n",
      "Datetime                                                         \n",
      "2024-04-16 13:00:00+00:00  62661.867188  62661.867188         0  \n",
      "2024-04-16 14:00:00+00:00  62187.199219  62187.199219         0  \n",
      "2024-04-16 15:00:00+00:00  61914.695312  61914.695312         0  \n",
      "2024-04-16 16:00:00+00:00  62482.144531  62482.144531         0  \n",
      "2024-04-16 17:00:00+00:00  62379.781250  62379.781250         0  \n",
      "...                                 ...           ...       ...  \n",
      "2024-05-09 04:00:00+00:00  61497.863281  61497.863281         0  \n",
      "2024-05-09 05:00:00+00:00  61588.796875  61588.796875         0  \n",
      "2024-05-09 06:00:00+00:00  61619.351562  61619.351562  14903296  \n",
      "2024-05-09 07:00:00+00:00  61220.175781  61220.175781  82606080  \n",
      "2024-05-09 08:00:00+00:00  61279.207031  61279.207031  50216960  \n",
      "\n",
      "[526 rows x 6 columns]\n",
      "                                   Open          High           Low  \\\n",
      "Datetime                                                              \n",
      "2024-04-05 14:00:00+00:00  67524.820312  68597.445312  67381.367188   \n",
      "2024-04-05 15:00:00+00:00  68210.250000  68268.164062  67678.078125   \n",
      "2024-04-05 16:00:00+00:00  68225.406250  68377.679688  67790.914062   \n",
      "2024-04-05 17:00:00+00:00  67979.773438  68010.234375  67441.226562   \n",
      "2024-04-05 18:00:00+00:00  67450.054688  67712.960938  67360.734375   \n",
      "...                                 ...           ...           ...   \n",
      "2024-05-09 04:00:00+00:00  61658.406250  61720.199219  61425.921875   \n",
      "2024-05-09 05:00:00+00:00  61501.035156  61648.394531  61442.195312   \n",
      "2024-05-09 06:00:00+00:00  61590.761719  61741.625000  61517.156250   \n",
      "2024-05-09 07:00:00+00:00  61588.929688  61608.203125  61166.105469   \n",
      "2024-05-09 08:00:00+00:00  61229.070312  61386.476562  61158.015625   \n",
      "\n",
      "                                  Close     Adj Close     Volume  \n",
      "Datetime                                                          \n",
      "2024-04-05 14:00:00+00:00  68233.859375  68233.859375          0  \n",
      "2024-04-05 15:00:00+00:00  68102.609375  68102.609375  137617408  \n",
      "2024-04-05 16:00:00+00:00  67923.015625  67923.015625          0  \n",
      "2024-04-05 17:00:00+00:00  67458.890625  67458.890625          0  \n",
      "2024-04-05 18:00:00+00:00  67585.554688  67585.554688          0  \n",
      "...                                 ...           ...        ...  \n",
      "2024-05-09 04:00:00+00:00  61497.863281  61497.863281          0  \n",
      "2024-05-09 05:00:00+00:00  61588.796875  61588.796875          0  \n",
      "2024-05-09 06:00:00+00:00  61619.351562  61619.351562   14903296  \n",
      "2024-05-09 07:00:00+00:00  61220.175781  61220.175781   82606080  \n",
      "2024-05-09 08:00:00+00:00  61279.207031  61279.207031   50216960  \n",
      "\n",
      "[789 rows x 6 columns]\n",
      "None\n"
     ]
    },
    {
     "name": "stderr",
     "output_type": "stream",
     "text": [
      "[*********************100%%**********************]  1 of 1 completed\n",
      "[*********************100%%**********************]  1 of 1 completed\n"
     ]
    },
    {
     "name": "stdout",
     "output_type": "stream",
     "text": [
      "                                   Open          High           Low  \\\n",
      "Datetime                                                              \n",
      "2024-04-09 16:00:00+00:00  69214.679688  69270.125000  68534.562500   \n",
      "2024-04-09 17:00:00+00:00  68583.140625  68897.023438  68212.921875   \n",
      "2024-04-09 18:00:00+00:00  68800.968750  68953.632812  68771.976562   \n",
      "2024-04-09 19:00:00+00:00  68863.906250  69112.484375  68707.171875   \n",
      "2024-04-09 20:00:00+00:00  69019.953125  69151.968750  68979.882812   \n",
      "...                                 ...           ...           ...   \n",
      "2024-05-09 04:00:00+00:00  61658.406250  61720.199219  61425.921875   \n",
      "2024-05-09 05:00:00+00:00  61501.035156  61648.394531  61442.195312   \n",
      "2024-05-09 06:00:00+00:00  61590.761719  61741.625000  61517.156250   \n",
      "2024-05-09 07:00:00+00:00  61588.929688  61608.203125  61166.105469   \n",
      "2024-05-09 08:00:00+00:00  61229.070312  61386.476562  61158.015625   \n",
      "\n",
      "                                  Close     Adj Close     Volume  \n",
      "Datetime                                                          \n",
      "2024-04-09 16:00:00+00:00  68621.570312  68621.570312          0  \n",
      "2024-04-09 17:00:00+00:00  68818.703125  68818.703125  789463040  \n",
      "2024-04-09 18:00:00+00:00  68875.679688  68875.679688          0  \n",
      "2024-04-09 19:00:00+00:00  69071.023438  69071.023438   65212416  \n",
      "2024-04-09 20:00:00+00:00  69075.351562  69075.351562          0  \n",
      "...                                 ...           ...        ...  \n",
      "2024-05-09 04:00:00+00:00  61497.863281  61497.863281          0  \n",
      "2024-05-09 05:00:00+00:00  61588.796875  61588.796875          0  \n",
      "2024-05-09 06:00:00+00:00  61619.351562  61619.351562   14903296  \n",
      "2024-05-09 07:00:00+00:00  61220.175781  61220.175781   82606080  \n",
      "2024-05-09 08:00:00+00:00  61279.207031  61279.207031   50216960  \n",
      "\n",
      "[691 rows x 6 columns]\n",
      "                                   Open          High           Low  \\\n",
      "Datetime                                                              \n",
      "2024-04-11 16:00:00+00:00  69991.531250  70110.148438  69590.742188   \n",
      "2024-04-11 17:00:00+00:00  70010.984375  70404.312500  70010.984375   \n",
      "2024-04-11 18:00:00+00:00  70203.007812  70354.421875  69978.335938   \n",
      "2024-04-11 19:00:00+00:00  70099.765625  70522.429688  70024.140625   \n",
      "2024-04-11 20:00:00+00:00  70466.093750  70742.468750  70416.390625   \n",
      "...                                 ...           ...           ...   \n",
      "2024-05-09 04:00:00+00:00  61658.406250  61720.199219  61425.921875   \n",
      "2024-05-09 05:00:00+00:00  61501.035156  61648.394531  61442.195312   \n",
      "2024-05-09 06:00:00+00:00  61590.761719  61741.625000  61517.156250   \n",
      "2024-05-09 07:00:00+00:00  61588.929688  61608.203125  61166.105469   \n",
      "2024-05-09 08:00:00+00:00  61229.070312  61386.476562  61158.015625   \n",
      "\n",
      "                                  Close     Adj Close    Volume  \n",
      "Datetime                                                         \n",
      "2024-04-11 16:00:00+00:00  70049.968750  70049.968750         0  \n",
      "2024-04-11 17:00:00+00:00  70196.101562  70196.101562         0  \n",
      "2024-04-11 18:00:00+00:00  70097.640625  70097.640625         0  \n",
      "2024-04-11 19:00:00+00:00  70352.421875  70352.421875         0  \n",
      "2024-04-11 20:00:00+00:00  70509.906250  70509.906250         0  \n",
      "...                                 ...           ...       ...  \n",
      "2024-05-09 04:00:00+00:00  61497.863281  61497.863281         0  \n",
      "2024-05-09 05:00:00+00:00  61588.796875  61588.796875         0  \n",
      "2024-05-09 06:00:00+00:00  61619.351562  61619.351562  14903296  \n",
      "2024-05-09 07:00:00+00:00  61220.175781  61220.175781  82606080  \n",
      "2024-05-09 08:00:00+00:00  61279.207031  61279.207031  50216960  \n",
      "\n",
      "[643 rows x 6 columns]\n"
     ]
    },
    {
     "name": "stderr",
     "output_type": "stream",
     "text": [
      "[*********************100%%**********************]  1 of 1 completed\n",
      "[*********************100%%**********************]  1 of 1 completed\n"
     ]
    },
    {
     "name": "stdout",
     "output_type": "stream",
     "text": [
      "                                   Open          High           Low  \\\n",
      "Datetime                                                              \n",
      "2024-04-29 12:00:00+00:00  62254.503906  62617.441406  62085.191406   \n",
      "2024-04-29 13:00:00+00:00  62579.144531  62657.734375  61826.671875   \n",
      "2024-04-29 14:00:00+00:00  61985.828125  62979.398438  61929.914062   \n",
      "2024-04-29 15:00:00+00:00  62825.578125  63034.441406  62760.066406   \n",
      "2024-04-29 16:00:00+00:00  63034.316406  63100.722656  62784.453125   \n",
      "...                                 ...           ...           ...   \n",
      "2024-05-09 04:00:00+00:00  61658.406250  61720.199219  61425.921875   \n",
      "2024-05-09 05:00:00+00:00  61501.035156  61648.394531  61442.195312   \n",
      "2024-05-09 06:00:00+00:00  61590.761719  61741.625000  61517.156250   \n",
      "2024-05-09 07:00:00+00:00  61588.929688  61608.203125  61166.105469   \n",
      "2024-05-09 08:00:00+00:00  61229.070312  61386.476562  61158.015625   \n",
      "\n",
      "                                  Close     Adj Close      Volume  \n",
      "Datetime                                                           \n",
      "2024-04-29 12:00:00+00:00  62609.511719  62609.511719           0  \n",
      "2024-04-29 13:00:00+00:00  61974.937500  61974.937500  1065504768  \n",
      "2024-04-29 14:00:00+00:00  62847.734375  62847.734375  1442578432  \n",
      "2024-04-29 15:00:00+00:00  62991.269531  62991.269531   624896000  \n",
      "2024-04-29 16:00:00+00:00  62789.363281  62789.363281   437391360  \n",
      "...                                 ...           ...         ...  \n",
      "2024-05-09 04:00:00+00:00  61497.863281  61497.863281           0  \n",
      "2024-05-09 05:00:00+00:00  61588.796875  61588.796875           0  \n",
      "2024-05-09 06:00:00+00:00  61619.351562  61619.351562    14903296  \n",
      "2024-05-09 07:00:00+00:00  61220.175781  61220.175781    82606080  \n",
      "2024-05-09 08:00:00+00:00  61279.207031  61279.207031    50216960  \n",
      "\n",
      "[215 rows x 6 columns]\n",
      "                                   Open          High           Low  \\\n",
      "Datetime                                                              \n",
      "2024-04-15 16:00:00+00:00  64615.101562  64874.363281  64006.562500   \n",
      "2024-04-15 17:00:00+00:00  64173.394531  64740.128906  63491.906250   \n",
      "2024-04-15 18:00:00+00:00  63936.187500  64040.886719  63197.839844   \n",
      "2024-04-15 19:00:00+00:00  63191.410156  63615.144531  62440.484375   \n",
      "2024-04-15 20:00:00+00:00  63344.316406  63640.472656  63047.738281   \n",
      "...                                 ...           ...           ...   \n",
      "2024-05-09 04:00:00+00:00  61658.406250  61720.199219  61425.921875   \n",
      "2024-05-09 05:00:00+00:00  61501.035156  61648.394531  61442.195312   \n",
      "2024-05-09 06:00:00+00:00  61590.761719  61741.625000  61517.156250   \n",
      "2024-05-09 07:00:00+00:00  61588.929688  61608.203125  61166.105469   \n",
      "2024-05-09 08:00:00+00:00  61229.070312  61386.476562  61158.015625   \n",
      "\n",
      "                                  Close     Adj Close      Volume  \n",
      "Datetime                                                           \n",
      "2024-04-15 16:00:00+00:00  64194.863281  64194.863281           0  \n",
      "2024-04-15 17:00:00+00:00  63970.464844  63970.464844           0  \n",
      "2024-04-15 18:00:00+00:00  63216.144531  63216.144531   244666368  \n",
      "2024-04-15 19:00:00+00:00  63519.015625  63519.015625  1769361408  \n",
      "2024-04-15 20:00:00+00:00  63184.925781  63184.925781   163962880  \n",
      "...                                 ...           ...         ...  \n",
      "2024-05-09 04:00:00+00:00  61497.863281  61497.863281           0  \n",
      "2024-05-09 05:00:00+00:00  61588.796875  61588.796875           0  \n",
      "2024-05-09 06:00:00+00:00  61619.351562  61619.351562    14903296  \n",
      "2024-05-09 07:00:00+00:00  61220.175781  61220.175781    82606080  \n",
      "2024-05-09 08:00:00+00:00  61279.207031  61279.207031    50216960  \n",
      "\n",
      "[547 rows x 6 columns]\n",
      "None\n",
      "None\n"
     ]
    },
    {
     "name": "stderr",
     "output_type": "stream",
     "text": [
      "[*********************100%%**********************]  1 of 1 completed\n",
      "[*********************100%%**********************]  1 of 1 completed\n",
      "[*********************100%%**********************]  1 of 1 completed\n"
     ]
    },
    {
     "name": "stdout",
     "output_type": "stream",
     "text": [
      "                                   Open          High           Low  \\\n",
      "Datetime                                                              \n",
      "2024-04-16 16:00:00+00:00  61834.855469  62502.722656  61740.910156   \n",
      "2024-04-16 17:00:00+00:00  62715.902344  63284.203125  62348.105469   \n",
      "2024-04-16 18:00:00+00:00  62509.863281  62986.125000  62509.863281   \n",
      "2024-04-16 19:00:00+00:00  63010.160156  63081.625000  62699.035156   \n",
      "2024-04-16 20:00:00+00:00  62744.960938  63036.789062  62599.453125   \n",
      "...                                 ...           ...           ...   \n",
      "2024-05-09 04:00:00+00:00  61658.406250  61720.199219  61425.921875   \n",
      "2024-05-09 05:00:00+00:00  61501.035156  61648.394531  61442.195312   \n",
      "2024-05-09 06:00:00+00:00  61590.761719  61741.625000  61517.156250   \n",
      "2024-05-09 07:00:00+00:00  61588.929688  61608.203125  61166.105469   \n",
      "2024-05-09 08:00:00+00:00  61229.070312  61386.476562  61158.015625   \n",
      "\n",
      "                                  Close     Adj Close    Volume  \n",
      "Datetime                                                         \n",
      "2024-04-16 16:00:00+00:00  62482.144531  62482.144531         0  \n",
      "2024-04-16 17:00:00+00:00  62379.781250  62379.781250         0  \n",
      "2024-04-16 18:00:00+00:00  62986.125000  62986.125000         0  \n",
      "2024-04-16 19:00:00+00:00  62777.230469  62777.230469         0  \n",
      "2024-04-16 20:00:00+00:00  63036.789062  63036.789062         0  \n",
      "...                                 ...           ...       ...  \n",
      "2024-05-09 04:00:00+00:00  61497.863281  61497.863281         0  \n",
      "2024-05-09 05:00:00+00:00  61588.796875  61588.796875         0  \n",
      "2024-05-09 06:00:00+00:00  61619.351562  61619.351562  14903296  \n",
      "2024-05-09 07:00:00+00:00  61220.175781  61220.175781  82606080  \n",
      "2024-05-09 08:00:00+00:00  61279.207031  61279.207031  50216960  \n",
      "\n",
      "[523 rows x 6 columns]\n",
      "                                   Open          High           Low  \\\n",
      "Datetime                                                              \n",
      "2024-04-22 19:00:00+00:00  66361.554688  66531.992188  66185.882812   \n",
      "2024-04-22 20:00:00+00:00  66615.664062  66738.992188  66454.117188   \n",
      "2024-04-22 21:00:00+00:00  66536.218750  66569.492188  66429.109375   \n",
      "2024-04-22 22:00:00+00:00  66539.117188  67192.937500  66539.117188   \n",
      "2024-04-22 23:00:00+00:00  67047.109375  67215.382812  66833.093750   \n",
      "...                                 ...           ...           ...   \n",
      "2024-05-09 04:00:00+00:00  61658.406250  61720.199219  61425.921875   \n",
      "2024-05-09 05:00:00+00:00  61501.035156  61648.394531  61442.195312   \n",
      "2024-05-09 06:00:00+00:00  61590.761719  61741.625000  61517.156250   \n",
      "2024-05-09 07:00:00+00:00  61588.929688  61608.203125  61166.105469   \n",
      "2024-05-09 08:00:00+00:00  61229.070312  61386.476562  61158.015625   \n",
      "\n",
      "                                  Close     Adj Close     Volume  \n",
      "Datetime                                                          \n",
      "2024-04-22 19:00:00+00:00  66531.992188  66531.992188          0  \n",
      "2024-04-22 20:00:00+00:00  66510.132812  66510.132812  120786944  \n",
      "2024-04-22 21:00:00+00:00  66539.601562  66539.601562          0  \n",
      "2024-04-22 22:00:00+00:00  67073.382812  67073.382812  422666240  \n",
      "2024-04-22 23:00:00+00:00  66835.664062  66835.664062  551088128  \n",
      "...                                 ...           ...        ...  \n",
      "2024-05-09 04:00:00+00:00  61497.863281  61497.863281          0  \n",
      "2024-05-09 05:00:00+00:00  61588.796875  61588.796875          0  \n",
      "2024-05-09 06:00:00+00:00  61619.351562  61619.351562   14903296  \n",
      "2024-05-09 07:00:00+00:00  61220.175781  61220.175781   82606080  \n",
      "2024-05-09 08:00:00+00:00  61279.207031  61279.207031   50216960  \n",
      "\n",
      "[376 rows x 6 columns]\n",
      "                                   Open          High           Low  \\\n",
      "Datetime                                                              \n",
      "2024-04-23 04:00:00+00:00  66491.937500  66611.375000  66258.726562   \n",
      "2024-04-23 05:00:00+00:00  66282.539062  66606.976562  66251.828125   \n",
      "2024-04-23 06:00:00+00:00  66538.710938  66656.695312  66371.664062   \n",
      "2024-04-23 07:00:00+00:00  66409.101562  66464.695312  66133.031250   \n",
      "2024-04-23 08:00:00+00:00  66129.312500  66258.390625  66009.898438   \n",
      "...                                 ...           ...           ...   \n",
      "2024-05-09 04:00:00+00:00  61658.406250  61720.199219  61425.921875   \n",
      "2024-05-09 05:00:00+00:00  61501.035156  61648.394531  61442.195312   \n",
      "2024-05-09 06:00:00+00:00  61590.761719  61741.625000  61517.156250   \n",
      "2024-05-09 07:00:00+00:00  61588.929688  61608.203125  61166.105469   \n",
      "2024-05-09 08:00:00+00:00  61229.070312  61386.476562  61158.015625   \n",
      "\n",
      "                                  Close     Adj Close    Volume  \n",
      "Datetime                                                         \n",
      "2024-04-23 04:00:00+00:00  66274.968750  66274.968750         0  \n",
      "2024-04-23 05:00:00+00:00  66540.937500  66540.937500         0  \n",
      "2024-04-23 06:00:00+00:00  66371.664062  66371.664062         0  \n",
      "2024-04-23 07:00:00+00:00  66137.625000  66137.625000         0  \n",
      "2024-04-23 08:00:00+00:00  66258.390625  66258.390625    124928  \n",
      "...                                 ...           ...       ...  \n",
      "2024-05-09 04:00:00+00:00  61497.863281  61497.863281         0  \n",
      "2024-05-09 05:00:00+00:00  61588.796875  61588.796875         0  \n",
      "2024-05-09 06:00:00+00:00  61619.351562  61619.351562  14903296  \n",
      "2024-05-09 07:00:00+00:00  61220.175781  61220.175781  82606080  \n",
      "2024-05-09 08:00:00+00:00  61279.207031  61279.207031  50216960  \n",
      "\n",
      "[367 rows x 6 columns]\n"
     ]
    },
    {
     "name": "stderr",
     "output_type": "stream",
     "text": [
      "[*********************100%%**********************]  1 of 1 completed\n",
      "[*********************100%%**********************]  1 of 1 completed\n"
     ]
    },
    {
     "name": "stdout",
     "output_type": "stream",
     "text": [
      "                                   Open          High           Low  \\\n",
      "Datetime                                                              \n",
      "2024-04-24 14:00:00+00:00  66043.500000  66162.625000  64831.917969   \n",
      "2024-04-24 15:00:00+00:00  65219.667969  65219.667969  64529.953125   \n",
      "2024-04-24 16:00:00+00:00  64589.882812  64859.500000  64359.312500   \n",
      "2024-04-24 17:00:00+00:00  64761.050781  65074.019531  64739.039062   \n",
      "2024-04-24 18:00:00+00:00  64854.761719  64854.761719  64099.128906   \n",
      "...                                 ...           ...           ...   \n",
      "2024-05-09 04:00:00+00:00  61658.406250  61720.199219  61425.921875   \n",
      "2024-05-09 05:00:00+00:00  61501.035156  61648.394531  61442.195312   \n",
      "2024-05-09 06:00:00+00:00  61590.761719  61741.625000  61517.156250   \n",
      "2024-05-09 07:00:00+00:00  61588.929688  61608.203125  61166.105469   \n",
      "2024-05-09 08:00:00+00:00  61229.070312  61386.476562  61158.015625   \n",
      "\n",
      "                                  Close     Adj Close     Volume  \n",
      "Datetime                                                          \n",
      "2024-04-24 14:00:00+00:00  65139.816406  65139.816406          0  \n",
      "2024-04-24 15:00:00+00:00  64549.550781  64549.550781  918194176  \n",
      "2024-04-24 16:00:00+00:00  64733.601562  64733.601562  524474368  \n",
      "2024-04-24 17:00:00+00:00  64852.718750  64852.718750  450791424  \n",
      "2024-04-24 18:00:00+00:00  64140.765625  64140.765625  419041280  \n",
      "...                                 ...           ...        ...  \n",
      "2024-05-09 04:00:00+00:00  61497.863281  61497.863281          0  \n",
      "2024-05-09 05:00:00+00:00  61588.796875  61588.796875          0  \n",
      "2024-05-09 06:00:00+00:00  61619.351562  61619.351562   14903296  \n",
      "2024-05-09 07:00:00+00:00  61220.175781  61220.175781   82606080  \n",
      "2024-05-09 08:00:00+00:00  61279.207031  61279.207031   50216960  \n",
      "\n",
      "[333 rows x 6 columns]\n",
      "                                   Open          High           Low  \\\n",
      "Datetime                                                              \n",
      "2024-04-04 17:00:00+00:00  67856.320312  68863.078125  67799.617188   \n",
      "2024-04-04 18:00:00+00:00  68843.578125  69209.460938  68634.445312   \n",
      "2024-04-04 19:00:00+00:00  68605.156250  69099.390625  68444.687500   \n",
      "2024-04-04 20:00:00+00:00  68461.046875  68559.351562  67419.773438   \n",
      "2024-04-04 21:00:00+00:00  67942.273438  68134.273438  67534.343750   \n",
      "...                                 ...           ...           ...   \n",
      "2024-05-09 04:00:00+00:00  61658.406250  61720.199219  61425.921875   \n",
      "2024-05-09 05:00:00+00:00  61501.035156  61648.394531  61442.195312   \n",
      "2024-05-09 06:00:00+00:00  61590.761719  61741.625000  61517.156250   \n",
      "2024-05-09 07:00:00+00:00  61588.929688  61608.203125  61166.105469   \n",
      "2024-05-09 08:00:00+00:00  61229.070312  61386.476562  61158.015625   \n",
      "\n",
      "                                  Close     Adj Close      Volume  \n",
      "Datetime                                                           \n",
      "2024-04-04 17:00:00+00:00  68815.843750  68815.843750           0  \n",
      "2024-04-04 18:00:00+00:00  68634.445312  68634.445312  1612537856  \n",
      "2024-04-04 19:00:00+00:00  68457.765625  68457.765625   698744832  \n",
      "2024-04-04 20:00:00+00:00  67941.851562  67941.851562  1285670912  \n",
      "2024-04-04 21:00:00+00:00  67738.132812  67738.132812    49913856  \n",
      "...                                 ...           ...         ...  \n",
      "2024-05-09 04:00:00+00:00  61497.863281  61497.863281           0  \n",
      "2024-05-09 05:00:00+00:00  61588.796875  61588.796875           0  \n",
      "2024-05-09 06:00:00+00:00  61619.351562  61619.351562    14903296  \n",
      "2024-05-09 07:00:00+00:00  61220.175781  61220.175781    82606080  \n",
      "2024-05-09 08:00:00+00:00  61279.207031  61279.207031    50216960  \n",
      "\n",
      "[810 rows x 6 columns]\n",
      "None\n"
     ]
    },
    {
     "name": "stderr",
     "output_type": "stream",
     "text": [
      "[*********************100%%**********************]  1 of 1 completed\n",
      "[*********************100%%**********************]  1 of 1 completed\n",
      "\n",
      "1 Failed download:\n",
      "['DAI1-USD']: Exception('%ticker%: No price data found, symbol may be delisted (1h 2024-04-10 16:14:44 -> 2024-05-09 08:59:40+00:00)')\n",
      "[*********************100%%**********************]  1 of 1 completed\n"
     ]
    },
    {
     "name": "stdout",
     "output_type": "stream",
     "text": [
      "                                   Open          High           Low  \\\n",
      "Datetime                                                              \n",
      "2024-04-18 16:00:00+00:00  63520.074219  63876.742188  63346.867188   \n",
      "2024-04-18 17:00:00+00:00  63554.644531  63625.535156  62705.382812   \n",
      "2024-04-18 18:00:00+00:00  62833.859375  63215.843750  62459.523438   \n",
      "2024-04-18 19:00:00+00:00  63129.468750  63517.531250  63129.468750   \n",
      "2024-04-18 20:00:00+00:00  63529.105469  63633.062500  63343.000000   \n",
      "...                                 ...           ...           ...   \n",
      "2024-05-09 04:00:00+00:00  61658.406250  61720.199219  61425.921875   \n",
      "2024-05-09 05:00:00+00:00  61501.035156  61648.394531  61442.195312   \n",
      "2024-05-09 06:00:00+00:00  61590.761719  61741.625000  61517.156250   \n",
      "2024-05-09 07:00:00+00:00  61588.929688  61608.203125  61166.105469   \n",
      "2024-05-09 08:00:00+00:00  61229.070312  61386.476562  61158.015625   \n",
      "\n",
      "                                  Close     Adj Close    Volume  \n",
      "Datetime                                                         \n",
      "2024-04-18 16:00:00+00:00  63576.347656  63576.347656         0  \n",
      "2024-04-18 17:00:00+00:00  62837.820312  62837.820312         0  \n",
      "2024-04-18 18:00:00+00:00  63134.738281  63134.738281         0  \n",
      "2024-04-18 19:00:00+00:00  63517.531250  63517.531250         0  \n",
      "2024-04-18 20:00:00+00:00  63478.093750  63478.093750         0  \n",
      "...                                 ...           ...       ...  \n",
      "2024-05-09 04:00:00+00:00  61497.863281  61497.863281         0  \n",
      "2024-05-09 05:00:00+00:00  61588.796875  61588.796875         0  \n",
      "2024-05-09 06:00:00+00:00  61619.351562  61619.351562  14903296  \n",
      "2024-05-09 07:00:00+00:00  61220.175781  61220.175781  82606080  \n",
      "2024-05-09 08:00:00+00:00  61279.207031  61279.207031  50216960  \n",
      "\n",
      "[475 rows x 6 columns]\n",
      "Empty DataFrame\n",
      "Columns: [Open, High, Low, Close, Adj Close, Volume]\n",
      "Index: []\n",
      "                                   Open          High           Low  \\\n",
      "Datetime                                                              \n",
      "2024-04-09 15:00:00+00:00  69314.234375  69317.625000  68574.960938   \n",
      "2024-04-09 16:00:00+00:00  69214.679688  69270.125000  68534.562500   \n",
      "2024-04-09 17:00:00+00:00  68583.140625  68897.023438  68212.921875   \n",
      "2024-04-09 18:00:00+00:00  68800.968750  68953.632812  68771.976562   \n",
      "2024-04-09 19:00:00+00:00  68863.906250  69112.484375  68707.171875   \n",
      "...                                 ...           ...           ...   \n",
      "2024-05-09 04:00:00+00:00  61658.406250  61720.199219  61425.921875   \n",
      "2024-05-09 05:00:00+00:00  61501.035156  61648.394531  61442.195312   \n",
      "2024-05-09 06:00:00+00:00  61590.761719  61741.625000  61517.156250   \n",
      "2024-05-09 07:00:00+00:00  61588.929688  61608.203125  61166.105469   \n",
      "2024-05-09 08:00:00+00:00  61229.070312  61386.476562  61158.015625   \n",
      "\n",
      "                                  Close     Adj Close     Volume  \n",
      "Datetime                                                          \n",
      "2024-04-09 15:00:00+00:00  69157.882812  69157.882812          0  \n",
      "2024-04-09 16:00:00+00:00  68621.570312  68621.570312  523964416  \n",
      "2024-04-09 17:00:00+00:00  68818.703125  68818.703125  789463040  \n",
      "2024-04-09 18:00:00+00:00  68875.679688  68875.679688          0  \n",
      "2024-04-09 19:00:00+00:00  69071.023438  69071.023438   65212416  \n",
      "...                                 ...           ...        ...  \n",
      "2024-05-09 04:00:00+00:00  61497.863281  61497.863281          0  \n",
      "2024-05-09 05:00:00+00:00  61588.796875  61588.796875          0  \n",
      "2024-05-09 06:00:00+00:00  61619.351562  61619.351562   14903296  \n",
      "2024-05-09 07:00:00+00:00  61220.175781  61220.175781   82606080  \n",
      "2024-05-09 08:00:00+00:00  61279.207031  61279.207031   50216960  \n",
      "\n",
      "[692 rows x 6 columns]\n"
     ]
    },
    {
     "name": "stderr",
     "output_type": "stream",
     "text": [
      "[*********************100%%**********************]  1 of 1 completed\n",
      "[*********************100%%**********************]  1 of 1 completed\n"
     ]
    },
    {
     "name": "stdout",
     "output_type": "stream",
     "text": [
      "                                   Open          High           Low  \\\n",
      "Datetime                                                              \n",
      "2024-04-12 16:00:00+00:00  69343.828125  69530.734375  68650.132812   \n",
      "2024-04-12 17:00:00+00:00  68834.265625  68890.335938  67546.562500   \n",
      "2024-04-12 18:00:00+00:00  68116.523438  68307.234375  65254.835938   \n",
      "2024-04-12 19:00:00+00:00  66524.054688  67269.234375  66363.453125   \n",
      "2024-04-12 20:00:00+00:00  66849.789062  67438.554688  66809.367188   \n",
      "...                                 ...           ...           ...   \n",
      "2024-05-09 04:00:00+00:00  61658.406250  61720.199219  61425.921875   \n",
      "2024-05-09 05:00:00+00:00  61501.035156  61648.394531  61442.195312   \n",
      "2024-05-09 06:00:00+00:00  61590.761719  61741.625000  61517.156250   \n",
      "2024-05-09 07:00:00+00:00  61588.929688  61608.203125  61166.105469   \n",
      "2024-05-09 08:00:00+00:00  61229.070312  61386.476562  61158.015625   \n",
      "\n",
      "                                  Close     Adj Close      Volume  \n",
      "Datetime                                                           \n",
      "2024-04-12 16:00:00+00:00  68896.398438  68896.398438           0  \n",
      "2024-04-12 17:00:00+00:00  68087.757812  68087.757812  2868893696  \n",
      "2024-04-12 18:00:00+00:00  66743.445312  66743.445312  5384988672  \n",
      "2024-04-12 19:00:00+00:00  67119.359375  67119.359375  2594230272  \n",
      "2024-04-12 20:00:00+00:00  67022.781250  67022.781250  1262858240  \n",
      "...                                 ...           ...         ...  \n",
      "2024-05-09 04:00:00+00:00  61497.863281  61497.863281           0  \n",
      "2024-05-09 05:00:00+00:00  61588.796875  61588.796875           0  \n",
      "2024-05-09 06:00:00+00:00  61619.351562  61619.351562    14903296  \n",
      "2024-05-09 07:00:00+00:00  61220.175781  61220.175781    82606080  \n",
      "2024-05-09 08:00:00+00:00  61279.207031  61279.207031    50216960  \n",
      "\n",
      "[619 rows x 6 columns]\n",
      "                               Open      High       Low     Close  Adj Close  \\\n",
      "Datetime                                                                       \n",
      "2024-04-01 22:00:00+00:00  0.000020  0.000020  0.000020  0.000020   0.000020   \n",
      "2024-04-01 23:00:00+00:00  0.000020  0.000020  0.000020  0.000020   0.000020   \n",
      "2024-04-02 00:00:00+00:00  0.000020  0.000020  0.000020  0.000020   0.000020   \n",
      "2024-04-02 01:00:00+00:00  0.000020  0.000021  0.000020  0.000021   0.000021   \n",
      "2024-04-02 02:00:00+00:00  0.000021  0.000021  0.000021  0.000021   0.000021   \n",
      "...                             ...       ...       ...       ...        ...   \n",
      "2024-05-09 04:00:00+00:00  0.000019  0.000020  0.000019  0.000019   0.000019   \n",
      "2024-05-09 05:00:00+00:00  0.000019  0.000019  0.000019  0.000019   0.000019   \n",
      "2024-05-09 06:00:00+00:00  0.000019  0.000019  0.000019  0.000019   0.000019   \n",
      "2024-05-09 07:00:00+00:00  0.000019  0.000020  0.000019  0.000019   0.000019   \n",
      "2024-05-09 08:00:00+00:00  0.000019  0.000019  0.000019  0.000019   0.000019   \n",
      "\n",
      "                           Volume  \n",
      "Datetime                           \n",
      "2024-04-01 22:00:00+00:00       0  \n",
      "2024-04-01 23:00:00+00:00       0  \n",
      "2024-04-02 00:00:00+00:00       0  \n",
      "2024-04-02 01:00:00+00:00       0  \n",
      "2024-04-02 02:00:00+00:00    2208  \n",
      "...                           ...  \n",
      "2024-05-09 04:00:00+00:00       0  \n",
      "2024-05-09 05:00:00+00:00    1380  \n",
      "2024-05-09 06:00:00+00:00    2780  \n",
      "2024-05-09 07:00:00+00:00    5235  \n",
      "2024-05-09 08:00:00+00:00    3628  \n",
      "\n",
      "[877 rows x 6 columns]\n",
      "None\n"
     ]
    },
    {
     "name": "stderr",
     "output_type": "stream",
     "text": [
      "[*********************100%%**********************]  1 of 1 completed\n",
      "[*********************100%%**********************]  1 of 1 completed\n"
     ]
    },
    {
     "name": "stdout",
     "output_type": "stream",
     "text": [
      "                                  Open         High          Low        Close  \\\n",
      "Datetime                                                                        \n",
      "2024-04-22 15:00:00+00:00  3186.476807  3186.476807  3171.394531  3184.875732   \n",
      "2024-04-22 16:00:00+00:00  3185.125977  3199.831787  3174.480225  3184.468994   \n",
      "2024-04-22 17:00:00+00:00  3185.566406  3217.166992  3185.566406  3204.784668   \n",
      "2024-04-22 18:00:00+00:00  3203.679932  3205.296387  3192.577881  3194.116699   \n",
      "2024-04-22 19:00:00+00:00  3193.154053  3197.209473  3178.781250  3189.434814   \n",
      "...                                ...          ...          ...          ...   \n",
      "2024-05-09 04:00:00+00:00  2996.939941  3002.713379  2991.975830  2992.937256   \n",
      "2024-05-09 05:00:00+00:00  2992.713135  3009.671143  2992.388428  3004.985352   \n",
      "2024-05-09 06:00:00+00:00  3004.726318  3010.389160  2997.124756  3001.667236   \n",
      "2024-05-09 07:00:00+00:00  2999.796387  2999.946289  2976.482178  2981.997070   \n",
      "2024-05-09 08:00:00+00:00  2981.811035  2988.993652  2975.023438  2981.927002   \n",
      "\n",
      "                             Adj Close     Volume  \n",
      "Datetime                                           \n",
      "2024-04-22 15:00:00+00:00  3184.875732          0  \n",
      "2024-04-22 16:00:00+00:00  3184.468994          0  \n",
      "2024-04-22 17:00:00+00:00  3204.784668  233007104  \n",
      "2024-04-22 18:00:00+00:00  3194.116699  131256320  \n",
      "2024-04-22 19:00:00+00:00  3189.434814  131511296  \n",
      "...                                ...        ...  \n",
      "2024-05-09 04:00:00+00:00  2992.937256          0  \n",
      "2024-05-09 05:00:00+00:00  3004.985352   88265728  \n",
      "2024-05-09 06:00:00+00:00  3001.667236    1257472  \n",
      "2024-05-09 07:00:00+00:00  2981.997070  119180288  \n",
      "2024-05-09 08:00:00+00:00  2981.927002   14729216  \n",
      "\n",
      "[380 rows x 6 columns]\n",
      "                                   Open          High           Low  \\\n",
      "Datetime                                                              \n",
      "2024-04-28 11:00:00+00:00  63660.953125  63668.023438  63371.550781   \n",
      "2024-04-28 12:00:00+00:00  63458.625000  63625.699219  63440.480469   \n",
      "2024-04-28 13:00:00+00:00  63569.082031  63795.371094  63513.535156   \n",
      "2024-04-28 14:00:00+00:00  63745.738281  63745.738281  63490.269531   \n",
      "2024-04-28 15:00:00+00:00  63577.890625  63612.484375  63471.332031   \n",
      "...                                 ...           ...           ...   \n",
      "2024-05-09 04:00:00+00:00  61658.406250  61720.199219  61425.921875   \n",
      "2024-05-09 05:00:00+00:00  61501.035156  61648.394531  61442.195312   \n",
      "2024-05-09 06:00:00+00:00  61590.761719  61741.625000  61517.156250   \n",
      "2024-05-09 07:00:00+00:00  61588.929688  61608.203125  61166.105469   \n",
      "2024-05-09 08:00:00+00:00  61229.070312  61386.476562  61158.015625   \n",
      "\n",
      "                                  Close     Adj Close    Volume  \n",
      "Datetime                                                         \n",
      "2024-04-28 11:00:00+00:00  63453.917969  63453.917969         0  \n",
      "2024-04-28 12:00:00+00:00  63582.019531  63582.019531         0  \n",
      "2024-04-28 13:00:00+00:00  63748.214844  63748.214844  27596800  \n",
      "2024-04-28 14:00:00+00:00  63578.683594  63578.683594         0  \n",
      "2024-04-28 15:00:00+00:00  63521.218750  63521.218750         0  \n",
      "...                                 ...           ...       ...  \n",
      "2024-05-09 04:00:00+00:00  61497.863281  61497.863281         0  \n",
      "2024-05-09 05:00:00+00:00  61588.796875  61588.796875         0  \n",
      "2024-05-09 06:00:00+00:00  61619.351562  61619.351562  14903296  \n",
      "2024-05-09 07:00:00+00:00  61220.175781  61220.175781  82606080  \n",
      "2024-05-09 08:00:00+00:00  61279.207031  61279.207031  50216960  \n",
      "\n",
      "[240 rows x 6 columns]\n"
     ]
    },
    {
     "ename": "KeyboardInterrupt",
     "evalue": "",
     "output_type": "error",
     "traceback": [
      "\u001B[0;31m---------------------------------------------------------------------------\u001B[0m",
      "\u001B[0;31mKeyboardInterrupt\u001B[0m                         Traceback (most recent call last)",
      "Cell \u001B[0;32mIn[83], line 28\u001B[0m\n\u001B[1;32m     25\u001B[0m             history \u001B[38;5;241m=\u001B[39m yf\u001B[38;5;241m.\u001B[39mdownload(tik, start\u001B[38;5;241m=\u001B[39mpublished_datetime, interval\u001B[38;5;241m=\u001B[39m\u001B[38;5;124m\"\u001B[39m\u001B[38;5;124m1h\u001B[39m\u001B[38;5;124m\"\u001B[39m ,period\u001B[38;5;241m=\u001B[39m\u001B[38;5;124m\"\u001B[39m\u001B[38;5;124m1d\u001B[39m\u001B[38;5;124m\"\u001B[39m) \u001B[38;5;28;01mif\u001B[39;00m tik \u001B[38;5;28;01melse\u001B[39;00m \u001B[38;5;28;01mNone\u001B[39;00m\n\u001B[1;32m     26\u001B[0m             \u001B[38;5;28mprint\u001B[39m(history)\n\u001B[0;32m---> 28\u001B[0m \u001B[43mstonks\u001B[49m\u001B[43m(\u001B[49m\u001B[43m)\u001B[49m\u001B[38;5;241;43m.\u001B[39;49m\u001B[43mget_necessary_price\u001B[49m\u001B[43m(\u001B[49m\u001B[43m)\u001B[49m\n",
      "Cell \u001B[0;32mIn[83], line 25\u001B[0m, in \u001B[0;36mstonks.get_necessary_price\u001B[0;34m(self)\u001B[0m\n\u001B[1;32m     22\u001B[0m published_datetime \u001B[38;5;241m=\u001B[39m datetime\u001B[38;5;241m.\u001B[39mstrptime(published[count], \u001B[38;5;124m\"\u001B[39m\u001B[38;5;124m%\u001B[39m\u001B[38;5;124mY-\u001B[39m\u001B[38;5;124m%\u001B[39m\u001B[38;5;124mm-\u001B[39m\u001B[38;5;132;01m%d\u001B[39;00m\u001B[38;5;124mT\u001B[39m\u001B[38;5;124m%\u001B[39m\u001B[38;5;124mH:\u001B[39m\u001B[38;5;124m%\u001B[39m\u001B[38;5;124mM:\u001B[39m\u001B[38;5;124m%\u001B[39m\u001B[38;5;124mSZ\u001B[39m\u001B[38;5;124m\"\u001B[39m)\n\u001B[1;32m     23\u001B[0m \u001B[38;5;66;03m# print(published_datetime)\u001B[39;00m\n\u001B[0;32m---> 25\u001B[0m history \u001B[38;5;241m=\u001B[39m \u001B[43myf\u001B[49m\u001B[38;5;241;43m.\u001B[39;49m\u001B[43mdownload\u001B[49m\u001B[43m(\u001B[49m\u001B[43mtik\u001B[49m\u001B[43m,\u001B[49m\u001B[43m \u001B[49m\u001B[43mstart\u001B[49m\u001B[38;5;241;43m=\u001B[39;49m\u001B[43mpublished_datetime\u001B[49m\u001B[43m,\u001B[49m\u001B[43m \u001B[49m\u001B[43minterval\u001B[49m\u001B[38;5;241;43m=\u001B[39;49m\u001B[38;5;124;43m\"\u001B[39;49m\u001B[38;5;124;43m1h\u001B[39;49m\u001B[38;5;124;43m\"\u001B[39;49m\u001B[43m \u001B[49m\u001B[43m,\u001B[49m\u001B[43mperiod\u001B[49m\u001B[38;5;241;43m=\u001B[39;49m\u001B[38;5;124;43m\"\u001B[39;49m\u001B[38;5;124;43m1d\u001B[39;49m\u001B[38;5;124;43m\"\u001B[39;49m\u001B[43m)\u001B[49m \u001B[38;5;28;01mif\u001B[39;00m tik \u001B[38;5;28;01melse\u001B[39;00m \u001B[38;5;28;01mNone\u001B[39;00m\n\u001B[1;32m     26\u001B[0m \u001B[38;5;28mprint\u001B[39m(history)\n",
      "File \u001B[0;32m~/Documents/projects/A007_Sentimental_Analysis/venv/lib/python3.11/site-packages/yfinance/utils.py:103\u001B[0m, in \u001B[0;36mlog_indent_decorator.<locals>.wrapper\u001B[0;34m(*args, **kwargs)\u001B[0m\n\u001B[1;32m    100\u001B[0m logger\u001B[38;5;241m.\u001B[39mdebug(\u001B[38;5;124mf\u001B[39m\u001B[38;5;124m'\u001B[39m\u001B[38;5;124mEntering \u001B[39m\u001B[38;5;132;01m{\u001B[39;00mfunc\u001B[38;5;241m.\u001B[39m\u001B[38;5;18m__name__\u001B[39m\u001B[38;5;132;01m}\u001B[39;00m\u001B[38;5;124m()\u001B[39m\u001B[38;5;124m'\u001B[39m)\n\u001B[1;32m    102\u001B[0m \u001B[38;5;28;01mwith\u001B[39;00m IndentationContext():\n\u001B[0;32m--> 103\u001B[0m     result \u001B[38;5;241m=\u001B[39m \u001B[43mfunc\u001B[49m\u001B[43m(\u001B[49m\u001B[38;5;241;43m*\u001B[39;49m\u001B[43margs\u001B[49m\u001B[43m,\u001B[49m\u001B[43m \u001B[49m\u001B[38;5;241;43m*\u001B[39;49m\u001B[38;5;241;43m*\u001B[39;49m\u001B[43mkwargs\u001B[49m\u001B[43m)\u001B[49m\n\u001B[1;32m    105\u001B[0m logger\u001B[38;5;241m.\u001B[39mdebug(\u001B[38;5;124mf\u001B[39m\u001B[38;5;124m'\u001B[39m\u001B[38;5;124mExiting \u001B[39m\u001B[38;5;132;01m{\u001B[39;00mfunc\u001B[38;5;241m.\u001B[39m\u001B[38;5;18m__name__\u001B[39m\u001B[38;5;132;01m}\u001B[39;00m\u001B[38;5;124m()\u001B[39m\u001B[38;5;124m'\u001B[39m)\n\u001B[1;32m    106\u001B[0m \u001B[38;5;28;01mreturn\u001B[39;00m result\n",
      "File \u001B[0;32m~/Documents/projects/A007_Sentimental_Analysis/venv/lib/python3.11/site-packages/yfinance/multi.py:163\u001B[0m, in \u001B[0;36mdownload\u001B[0;34m(tickers, start, end, actions, threads, ignore_tz, group_by, auto_adjust, back_adjust, repair, keepna, progress, period, show_errors, interval, prepost, proxy, rounding, timeout, session)\u001B[0m\n\u001B[1;32m    156\u001B[0m         _download_one_threaded(ticker, period\u001B[38;5;241m=\u001B[39mperiod, interval\u001B[38;5;241m=\u001B[39minterval,\n\u001B[1;32m    157\u001B[0m                                start\u001B[38;5;241m=\u001B[39mstart, end\u001B[38;5;241m=\u001B[39mend, prepost\u001B[38;5;241m=\u001B[39mprepost,\n\u001B[1;32m    158\u001B[0m                                actions\u001B[38;5;241m=\u001B[39mactions, auto_adjust\u001B[38;5;241m=\u001B[39mauto_adjust,\n\u001B[1;32m    159\u001B[0m                                back_adjust\u001B[38;5;241m=\u001B[39mback_adjust, repair\u001B[38;5;241m=\u001B[39mrepair, keepna\u001B[38;5;241m=\u001B[39mkeepna,\n\u001B[1;32m    160\u001B[0m                                progress\u001B[38;5;241m=\u001B[39m(progress \u001B[38;5;129;01mand\u001B[39;00m i \u001B[38;5;241m>\u001B[39m \u001B[38;5;241m0\u001B[39m), proxy\u001B[38;5;241m=\u001B[39mproxy,\n\u001B[1;32m    161\u001B[0m                                rounding\u001B[38;5;241m=\u001B[39mrounding, timeout\u001B[38;5;241m=\u001B[39mtimeout)\n\u001B[1;32m    162\u001B[0m     \u001B[38;5;28;01mwhile\u001B[39;00m \u001B[38;5;28mlen\u001B[39m(shared\u001B[38;5;241m.\u001B[39m_DFS) \u001B[38;5;241m<\u001B[39m \u001B[38;5;28mlen\u001B[39m(tickers):\n\u001B[0;32m--> 163\u001B[0m         _time\u001B[38;5;241m.\u001B[39msleep(\u001B[38;5;241m0.01\u001B[39m)\n\u001B[1;32m    164\u001B[0m \u001B[38;5;66;03m# download synchronously\u001B[39;00m\n\u001B[1;32m    165\u001B[0m \u001B[38;5;28;01melse\u001B[39;00m:\n\u001B[1;32m    166\u001B[0m     \u001B[38;5;28;01mfor\u001B[39;00m i, ticker \u001B[38;5;129;01min\u001B[39;00m \u001B[38;5;28menumerate\u001B[39m(tickers):\n",
      "\u001B[0;31mKeyboardInterrupt\u001B[0m: "
     ]
    }
   ],
   "source": [
    "class stonks:\n",
    "    def get_symbol(self, input_name):\n",
    "        crypto_dataset_names = [name.split()[0] for name in crypto_dataset[\"Name\"]]\n",
    "        position = crypto_dataset_names.index(input_name)\n",
    "        return crypto_dataset[\"Symbol\"][position]\n",
    "\n",
    "    def process_price():\n",
    "        history = yf.download(\"BTC-USD\", start=\"2024-04-06\", interval=\"1h\", period=\"1d\")\n",
    "\n",
    "\n",
    "\n",
    "    def get_necessary_price(self):\n",
    "        col = [\n",
    "            \"Currency\",\n",
    "            \"publishedAt\",\n",
    "            \"avg title sentimental\",\n",
    "            \"avg sentimental sentimental\",\n",
    "            \"avg overall sentimental\",\n",
    "        ]\n",
    "        necessary_data = [news[val] for val in col]\n",
    "        currency, published, title_sen, sen, overall_sen = necessary_data\n",
    "\n",
    "\n",
    "        symbol = [self.get_symbol(tik[0][0]) if tik else None for tik in currency]\n",
    "        # download prices from the 60 min period\n",
    "        for count, tik in enumerate(symbol):\n",
    "            published_datetime = datetime.strptime(published[count], \"%Y-%m-%dT%H:%M:%SZ\")\n",
    "            # print(published_datetime)\n",
    "\n",
    "            history = yf.download(tik, start=published_datetime, interval=\"1h\" ,period=\"1d\") if tik else None\n",
    "            print(history)\n",
    "\n",
    "stonks().get_necessary_price()\n",
    "\n",
    "\n"
   ],
   "metadata": {
    "collapsed": false,
    "ExecuteTime": {
     "end_time": "2024-05-09T08:59:41.025942Z",
     "start_time": "2024-05-09T08:59:38.074176Z"
    }
   }
  },
  {
   "cell_type": "code",
   "execution_count": 85,
   "outputs": [],
   "source": [
    "import matplotlib.pyplot as plt"
   ],
   "metadata": {
    "collapsed": false,
    "ExecuteTime": {
     "end_time": "2024-05-09T09:04:01.041282Z",
     "start_time": "2024-05-09T09:03:56.518010Z"
    }
   }
  },
  {
   "cell_type": "code",
   "execution_count": 202,
   "outputs": [],
   "source": [
    "pos_news = news.iloc[5]"
   ],
   "metadata": {
    "collapsed": false,
    "ExecuteTime": {
     "end_time": "2024-05-09T10:01:20.250834Z",
     "start_time": "2024-05-09T10:01:20.244050Z"
    }
   }
  },
  {
   "cell_type": "code",
   "execution_count": 203,
   "outputs": [
    {
     "name": "stderr",
     "output_type": "stream",
     "text": [
      "[*********************100%%**********************]  1 of 1 completed\n"
     ]
    }
   ],
   "source": [
    "published_datetime = datetime.strptime(pos_news[\"publishedAt\"], \"%Y-%m-%dT%H:%M:%SZ\")\n",
    "history = yf.download(\"BTC-USD\", start=published_datetime, interval=\"1h\", period=\"1m\")"
   ],
   "metadata": {
    "collapsed": false,
    "ExecuteTime": {
     "end_time": "2024-05-09T10:01:20.786681Z",
     "start_time": "2024-05-09T10:01:20.430991Z"
    }
   }
  },
  {
   "cell_type": "code",
   "execution_count": 204,
   "outputs": [
    {
     "data": {
      "text/plain": "[<matplotlib.lines.Line2D at 0x159d22850>]"
     },
     "execution_count": 204,
     "metadata": {},
     "output_type": "execute_result"
    },
    {
     "data": {
      "text/plain": "<Figure size 640x480 with 1 Axes>",
      "image/png": "[encoded data removed]"
     },
     "metadata": {},
     "output_type": "display_data"
    }
   ],
   "source": [
    "first_val = history.iloc[0][\"Open\"]\n",
    "change = [price-first_val for price in history[\"Open\"]]\n",
    "# plt.plot(change)\n",
    "plt.plot(change[:50])"
   ],
   "metadata": {
    "collapsed": false,
    "ExecuteTime": {
     "end_time": "2024-05-09T10:01:20.978885Z",
     "start_time": "2024-05-09T10:01:20.916549Z"
    }
   }
  },
  {
   "cell_type": "code",
   "execution_count": 272,
   "outputs": [],
   "source": [
    "# change at 10,20,30,40,50,60 Hours interval\n",
    "dt_change = {}\n",
    "hours, interval = 60, 5\n",
    "[dt_change[f'{i + interval}h'].append(change[i+interval] - change[i]) if f'{i + interval}h' in dt_change else dt_change.update({f'{i + interval}h': [change[i+interval] - change[i]]}) for i in range(0, len(change[:60]), interval)]\n",
    "dt_change = pd.DataFrame(dt_change)"
   ],
   "metadata": {
    "collapsed": false,
    "ExecuteTime": {
     "end_time": "2024-05-09T10:53:15.111203Z",
     "start_time": "2024-05-09T10:53:15.097917Z"
    }
   }
  },
  {
   "cell_type": "code",
   "execution_count": 273,
   "outputs": [
    {
     "data": {
      "text/plain": "Open         68225.406250\nHigh         68377.679688\nLow          67790.914062\nClose        67923.015625\nAdj Close    67923.015625\nVolume           0.000000\nName: 2024-04-05 16:00:00+00:00, dtype: float64"
     },
     "execution_count": 273,
     "metadata": {},
     "output_type": "execute_result"
    }
   ],
   "source": [
    "history.iloc[0]"
   ],
   "metadata": {
    "collapsed": false,
    "ExecuteTime": {
     "end_time": "2024-05-09T10:53:15.463235Z",
     "start_time": "2024-05-09T10:53:15.458536Z"
    }
   }
  },
  {
   "cell_type": "code",
   "execution_count": 274,
   "outputs": [
    {
     "data": {
      "text/plain": "source                                        {'id': None, 'name': 'Biztoc.com'}\nauthor                                                              watcher.guru\ntitle                          Cryptocurrency: 3 Trending AI Coins To Buy For...\ndescription                    As the cryptocurrency market experiences a res...\nurl                                        https://biztoc.com/x/076f44f7bfc571b9\nurlToImage                        https://c.biztoc.com/p/076f44f7bfc571b9/s.webp\npublishedAt                                                 2024-04-05T16:40:06Z\ncontent                        As the cryptocurrency market experiences a res...\nCurrency                                                                    None\nparagraph                      [Prince Harry wore four medals on his chest as...\navg title sentimental                                                          0\navg sentimental sentimental                                             0.111111\navg overall sentimental                                                      0.0\nheadline sentimental           [[{'label': 'neutral', 'score': 0.994085311889...\nsentimental                    [[{'label': 'neutral', 'score': 0.999828815460...\noverall sentimental score      [[{'label': 'neutral', 'score': 0.997773110866...\nName: 95, dtype: object"
     },
     "execution_count": 274,
     "metadata": {},
     "output_type": "execute_result"
    }
   ],
   "source": [
    "pos_news"
   ],
   "metadata": {
    "collapsed": false,
    "ExecuteTime": {
     "end_time": "2024-05-09T10:53:15.918104Z",
     "start_time": "2024-05-09T10:53:15.914904Z"
    }
   }
  },
  {
   "cell_type": "code",
   "execution_count": 281,
   "outputs": [],
   "source": [
    "interval_x_val_change = {}\n",
    "sen_y_val = {}\n",
    "\n",
    "for i in range(len(news)):\n",
    "    pos_news = news.iloc[i]\n",
    "    published_datetime = datetime.strptime(pos_news[\"publishedAt\"], \"%Y-%m-%dT%H:%M:%SZ\")\n",
    "    history = yf.download(\"BTC-USD\", start=published_datetime, interval=\"1h\", period=\"1m\", progress=False)\n",
    "    first_val = history.iloc[0][\"Open\"]\n",
    "    change = [price-first_val for price in history[\"Open\"]]\n",
    "    hours, interval = 60, 5\n",
    "    for i in range(0, len(change[:60]),interval):\n",
    "        if f'{i + interval}h' in interval_x_val_change:\n",
    "            interval_x_val_change[f'{i + interval}h'].append(change[i+interval] - change[i])\n",
    "        else: interval_x_val_change.update({f'{i + interval}h': [change[i+interval] - change[i]]})\n",
    "interval_x_val_change = pd.DataFrame(interval_x_val_change)"
   ],
   "metadata": {
    "collapsed": false,
    "ExecuteTime": {
     "end_time": "2024-05-09T10:53:57.267275Z",
     "start_time": "2024-05-09T10:53:43.541067Z"
    }
   }
  },
  {
   "cell_type": "code",
   "execution_count": 282,
   "outputs": [
    {
     "data": {
      "text/plain": "             5h          10h          15h          20h          25h  \\\n0    -66.921875  1105.859375  -501.453125 -1411.929688 -2375.531250   \n1    416.812500  -258.343750   544.390625   736.789062   383.218750   \n2    305.898438   257.921875  -379.835938   589.609375  -647.226562   \n3   -443.121094  -313.175781   364.675781  -352.902344  1070.976562   \n4  -2375.531250    73.375000   443.476562    90.953125   237.359375   \n..          ...          ...          ...          ...          ...   \n91  -951.292969   -67.433594  -537.375000  -143.843750  -760.808594   \n92   725.304688   197.023438 -1746.695312   134.750000  1179.281250   \n93   369.964844 -1120.191406     3.382812    79.968750   358.847656   \n94   358.847656  -149.601562   782.800781  -323.296875    66.003906   \n95  -543.859375    48.812500   407.242188  -447.710938   458.796875   \n\n            30h          35h         40h          45h          50h  \\\n0     73.375000   443.476562   90.953125   237.359375 -5798.605469   \n1     81.226562  -141.023438   31.195312   -43.656250    28.382812   \n2  -1143.113281 -1264.187500  595.347656  -327.597656  -776.832031   \n3    -63.882812   604.820312 -171.164062  -125.441406  -199.175781   \n4  -5798.605469  1922.597656  884.718750  -497.367188   219.218750   \n..          ...          ...         ...          ...          ...   \n91  1193.050781  1013.246094 -116.640625 -1275.871094 -2453.183594   \n92  -543.859375    48.812500  407.242188  -447.710938   458.796875   \n93  -149.601562   782.800781 -323.296875    66.003906   155.445312   \n94   155.445312  -797.882812 -560.945312   -18.554688   301.777344   \n95   182.250000   998.843750   54.812500   -29.921875   434.359375   \n\n            55h          60h  \n0   1922.597656   884.718750  \n1   2801.429688  -476.585938  \n2    663.921875   699.343750  \n3    199.976562   692.515625  \n4   -697.449219  1462.582031  \n..          ...          ...  \n91  1103.464844   372.750000  \n92   182.250000   998.843750  \n93  -797.882812  -560.945312  \n94   133.523438 -2437.355469  \n95  -583.726562   250.250000  \n\n[96 rows x 12 columns]",
      "text/html": "<div>\n<style scoped>\n    .dataframe tbody tr th:only-of-type {\n        vertical-align: middle;\n    }\n\n    .dataframe tbody tr th {\n        vertical-align: top;\n    }\n\n    .dataframe thead th {\n        text-align: right;\n    }\n</style>\n<table border=\"1\" class=\"dataframe\">\n  <thead>\n    <tr style=\"text-align: right;\">\n      <th></th>\n      <th>5h</th>\n      <th>10h</th>\n      <th>15h</th>\n      <th>20h</th>\n      <th>25h</th>\n      <th>30h</th>\n      <th>35h</th>\n      <th>40h</th>\n      <th>45h</th>\n      <th>50h</th>\n      <th>55h</th>\n      <th>60h</th>\n    </tr>\n  </thead>\n  <tbody>\n    <tr>\n      <th>0</th>\n      <td>-66.921875</td>\n      <td>1105.859375</td>\n      <td>-501.453125</td>\n      <td>-1411.929688</td>\n      <td>-2375.531250</td>\n      <td>73.375000</td>\n      <td>443.476562</td>\n      <td>90.953125</td>\n      <td>237.359375</td>\n      <td>-5798.605469</td>\n      <td>1922.597656</td>\n      <td>884.718750</td>\n    </tr>\n    <tr>\n      <th>1</th>\n      <td>416.812500</td>\n      <td>-258.343750</td>\n      <td>544.390625</td>\n      <td>736.789062</td>\n      <td>383.218750</td>\n      <td>81.226562</td>\n      <td>-141.023438</td>\n      <td>31.195312</td>\n      <td>-43.656250</td>\n      <td>28.382812</td>\n      <td>2801.429688</td>\n      <td>-476.585938</td>\n    </tr>\n    <tr>\n      <th>2</th>\n      <td>305.898438</td>\n      <td>257.921875</td>\n      <td>-379.835938</td>\n      <td>589.609375</td>\n      <td>-647.226562</td>\n      <td>-1143.113281</td>\n      <td>-1264.187500</td>\n      <td>595.347656</td>\n      <td>-327.597656</td>\n      <td>-776.832031</td>\n      <td>663.921875</td>\n      <td>699.343750</td>\n    </tr>\n    <tr>\n      <th>3</th>\n      <td>-443.121094</td>\n      <td>-313.175781</td>\n      <td>364.675781</td>\n      <td>-352.902344</td>\n      <td>1070.976562</td>\n      <td>-63.882812</td>\n      <td>604.820312</td>\n      <td>-171.164062</td>\n      <td>-125.441406</td>\n      <td>-199.175781</td>\n      <td>199.976562</td>\n      <td>692.515625</td>\n    </tr>\n    <tr>\n      <th>4</th>\n      <td>-2375.531250</td>\n      <td>73.375000</td>\n      <td>443.476562</td>\n      <td>90.953125</td>\n      <td>237.359375</td>\n      <td>-5798.605469</td>\n      <td>1922.597656</td>\n      <td>884.718750</td>\n      <td>-497.367188</td>\n      <td>219.218750</td>\n      <td>-697.449219</td>\n      <td>1462.582031</td>\n    </tr>\n    <tr>\n      <th>...</th>\n      <td>...</td>\n      <td>...</td>\n      <td>...</td>\n      <td>...</td>\n      <td>...</td>\n      <td>...</td>\n      <td>...</td>\n      <td>...</td>\n      <td>...</td>\n      <td>...</td>\n      <td>...</td>\n      <td>...</td>\n    </tr>\n    <tr>\n      <th>91</th>\n      <td>-951.292969</td>\n      <td>-67.433594</td>\n      <td>-537.375000</td>\n      <td>-143.843750</td>\n      <td>-760.808594</td>\n      <td>1193.050781</td>\n      <td>1013.246094</td>\n      <td>-116.640625</td>\n      <td>-1275.871094</td>\n      <td>-2453.183594</td>\n      <td>1103.464844</td>\n      <td>372.750000</td>\n    </tr>\n    <tr>\n      <th>92</th>\n      <td>725.304688</td>\n      <td>197.023438</td>\n      <td>-1746.695312</td>\n      <td>134.750000</td>\n      <td>1179.281250</td>\n      <td>-543.859375</td>\n      <td>48.812500</td>\n      <td>407.242188</td>\n      <td>-447.710938</td>\n      <td>458.796875</td>\n      <td>182.250000</td>\n      <td>998.843750</td>\n    </tr>\n    <tr>\n      <th>93</th>\n      <td>369.964844</td>\n      <td>-1120.191406</td>\n      <td>3.382812</td>\n      <td>79.968750</td>\n      <td>358.847656</td>\n      <td>-149.601562</td>\n      <td>782.800781</td>\n      <td>-323.296875</td>\n      <td>66.003906</td>\n      <td>155.445312</td>\n      <td>-797.882812</td>\n      <td>-560.945312</td>\n    </tr>\n    <tr>\n      <th>94</th>\n      <td>358.847656</td>\n      <td>-149.601562</td>\n      <td>782.800781</td>\n      <td>-323.296875</td>\n      <td>66.003906</td>\n      <td>155.445312</td>\n      <td>-797.882812</td>\n      <td>-560.945312</td>\n      <td>-18.554688</td>\n      <td>301.777344</td>\n      <td>133.523438</td>\n      <td>-2437.355469</td>\n    </tr>\n    <tr>\n      <th>95</th>\n      <td>-543.859375</td>\n      <td>48.812500</td>\n      <td>407.242188</td>\n      <td>-447.710938</td>\n      <td>458.796875</td>\n      <td>182.250000</td>\n      <td>998.843750</td>\n      <td>54.812500</td>\n      <td>-29.921875</td>\n      <td>434.359375</td>\n      <td>-583.726562</td>\n      <td>250.250000</td>\n    </tr>\n  </tbody>\n</table>\n<p>96 rows × 12 columns</p>\n</div>"
     },
     "execution_count": 282,
     "metadata": {},
     "output_type": "execute_result"
    }
   ],
   "source": [
    "interval_x_val_change"
   ],
   "metadata": {
    "collapsed": false,
    "ExecuteTime": {
     "end_time": "2024-05-09T10:53:57.275020Z",
     "start_time": "2024-05-09T10:53:57.270402Z"
    }
   }
  },
  {
   "cell_type": "code",
   "execution_count": 283,
   "outputs": [
    {
     "data": {
      "text/plain": "    avg title sentimental  avg sentimental sentimental  \\\n0                       0                     0.047619   \n1                       0                     0.125000   \n2                       0                     0.115385   \n3                      -1                    -0.055556   \n4                       0                    -0.073171   \n..                    ...                          ...   \n91                      1                     0.133333   \n92                      0                    -0.083333   \n93                      0                     0.000000   \n94                      1                     0.086957   \n95                      0                     0.111111   \n\n    avg overall sentimental  \n0                  0.000000  \n1                  0.312500  \n2                  0.000000  \n3                 -0.125000  \n4                 -0.142857  \n..                      ...  \n91                -0.500000  \n92                -0.200000  \n93                 0.000000  \n94                -0.333333  \n95                 0.000000  \n\n[96 rows x 3 columns]",
      "text/html": "<div>\n<style scoped>\n    .dataframe tbody tr th:only-of-type {\n        vertical-align: middle;\n    }\n\n    .dataframe tbody tr th {\n        vertical-align: top;\n    }\n\n    .dataframe thead th {\n        text-align: right;\n    }\n</style>\n<table border=\"1\" class=\"dataframe\">\n  <thead>\n    <tr style=\"text-align: right;\">\n      <th></th>\n      <th>avg title sentimental</th>\n      <th>avg sentimental sentimental</th>\n      <th>avg overall sentimental</th>\n    </tr>\n  </thead>\n  <tbody>\n    <tr>\n      <th>0</th>\n      <td>0</td>\n      <td>0.047619</td>\n      <td>0.000000</td>\n    </tr>\n    <tr>\n      <th>1</th>\n      <td>0</td>\n      <td>0.125000</td>\n      <td>0.312500</td>\n    </tr>\n    <tr>\n      <th>2</th>\n      <td>0</td>\n      <td>0.115385</td>\n      <td>0.000000</td>\n    </tr>\n    <tr>\n      <th>3</th>\n      <td>-1</td>\n      <td>-0.055556</td>\n      <td>-0.125000</td>\n    </tr>\n    <tr>\n      <th>4</th>\n      <td>0</td>\n      <td>-0.073171</td>\n      <td>-0.142857</td>\n    </tr>\n    <tr>\n      <th>...</th>\n      <td>...</td>\n      <td>...</td>\n      <td>...</td>\n    </tr>\n    <tr>\n      <th>91</th>\n      <td>1</td>\n      <td>0.133333</td>\n      <td>-0.500000</td>\n    </tr>\n    <tr>\n      <th>92</th>\n      <td>0</td>\n      <td>-0.083333</td>\n      <td>-0.200000</td>\n    </tr>\n    <tr>\n      <th>93</th>\n      <td>0</td>\n      <td>0.000000</td>\n      <td>0.000000</td>\n    </tr>\n    <tr>\n      <th>94</th>\n      <td>1</td>\n      <td>0.086957</td>\n      <td>-0.333333</td>\n    </tr>\n    <tr>\n      <th>95</th>\n      <td>0</td>\n      <td>0.111111</td>\n      <td>0.000000</td>\n    </tr>\n  </tbody>\n</table>\n<p>96 rows × 3 columns</p>\n</div>"
     },
     "execution_count": 283,
     "metadata": {},
     "output_type": "execute_result"
    }
   ],
   "source": [
    "heads = [\"avg title sentimental\", \"avg sentimental sentimental\", \"avg overall sentimental\"]\n",
    "for head in heads:\n",
    "    sen_y_val.update({head: news[head]})\n",
    "sen_y_val = pd.DataFrame(sen_y_val)\n",
    "sen_y_val"
   ],
   "metadata": {
    "collapsed": false,
    "ExecuteTime": {
     "end_time": "2024-05-09T10:54:00.908690Z",
     "start_time": "2024-05-09T10:54:00.904038Z"
    }
   }
  },
  {
   "cell_type": "code",
   "execution_count": 284,
   "outputs": [
    {
     "data": {
      "text/plain": "<matplotlib.collections.PathCollection at 0x175de4a90>"
     },
     "execution_count": 284,
     "metadata": {},
     "output_type": "execute_result"
    },
    {
     "data": {
      "text/plain": "<Figure size 640x480 with 1 Axes>",
      "image/png": "[encoded data removed]"
     },
     "metadata": {},
     "output_type": "display_data"
    }
   ],
   "source": [
    "# do not use it the Values are opposite y&x are different\n",
    "y_val, x_val = interval_x_val_change[\"5h\"], sen_y_val[\"avg sentimental sentimental\"]\n",
    "plt.scatter(x_val, y_val)"
   ],
   "metadata": {
    "collapsed": false,
    "ExecuteTime": {
     "end_time": "2024-05-09T10:54:01.928138Z",
     "start_time": "2024-05-09T10:54:01.851378Z"
    }
   }
  },
  {
   "cell_type": "code",
   "execution_count": 286,
   "outputs": [],
   "source": [],
   "metadata": {
    "collapsed": false,
    "ExecuteTime": {
     "end_time": "2024-05-09T15:57:17.419163Z",
     "start_time": "2024-05-09T15:57:17.090734Z"
    }
   }
  },
  {
   "cell_type": "code",
   "execution_count": null,
   "outputs": [],
   "source": [],
   "metadata": {
    "collapsed": false
   }
  }
 ],
 "metadata": {
  "kernelspec": {
   "display_name": "Python 3",
   "language": "python",
   "name": "python3"
  },
  "language_info": {
   "codemirror_mode": {
    "name": "ipython",
    "version": 2
   },
   "file_extension": ".py",
   "mimetype": "text/x-python",
   "name": "python",
   "nbconvert_exporter": "python",
   "pygments_lexer": "ipython2",
   "version": "2.7.6"
  }
 },
 "nbformat": 4,
 "nbformat_minor": 0
}
